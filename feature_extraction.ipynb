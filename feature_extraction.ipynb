{
 "cells": [
  {
   "cell_type": "code",
   "execution_count": 1,
   "id": "bff23553-84c7-4044-9f32-a5491408afe2",
   "metadata": {},
   "outputs": [
    {
     "name": "stderr",
     "output_type": "stream",
     "text": [
      "[nltk_data] Downloading package punkt to\n",
      "[nltk_data]     C:\\Users\\emiel\\AppData\\Roaming\\nltk_data...\n",
      "[nltk_data]   Package punkt is already up-to-date!\n",
      "[nltk_data] Downloading package stopwords to\n",
      "[nltk_data]     C:\\Users\\emiel\\AppData\\Roaming\\nltk_data...\n",
      "[nltk_data]   Package stopwords is already up-to-date!\n"
     ]
    }
   ],
   "source": [
    "import spacy\n",
    "import torch\n",
    "from transformers import AutoTokenizer, AutoModelForCausalLM\n",
    "from sentence_transformers import SentenceTransformer\n",
    "import pandas as pd\n",
    "from sklearn.metrics.pairwise import cosine_similarity\n",
    "from sklearn.metrics import ndcg_score\n",
    "import numpy as np\n",
    "import random\n",
    "from sklearn.preprocessing import normalize\n",
    "random.seed(42)\n",
    "import spacy\n",
    "import re\n",
    "from nltk.tokenize import word_tokenize\n",
    "from nltk.corpus import stopwords\n",
    "import nltk\n",
    "import dspy\n",
    "from nltk.stem import PorterStemmer\n",
    "nltk.download('punkt')\n",
    "from datasets import Dataset\n",
    "nltk.download('stopwords')\n",
    "from transformers import pipeline\n",
    "import ast\n",
    "import json\n"
   ]
  },
  {
   "cell_type": "code",
   "execution_count": 33,
   "id": "cc40b892-f5a0-409f-8491-bba51ea8cff1",
   "metadata": {},
   "outputs": [],
   "source": [
    "def create_category_string(category, dictionary):\n",
    "    string = f\"{category}: \"\n",
    "    \n",
    "    if category in dictionary:\n",
    "        category_data = dictionary[category]\n",
    "        if isinstance(category_data, list):\n",
    "            for item in category_data:\n",
    "                for k, v in item.items():\n",
    "                    if k == 'name':  \n",
    "                        continue\n",
    "                    if isinstance(v, list):\n",
    "                        v = ', '.join(v)\n",
    "                    string += f\"{k}: {v} \"\n",
    "        elif isinstance(category_data, dict):\n",
    "            for k, v in category_data.items():\n",
    "                if k == 'name': \n",
    "                    continue\n",
    "                if isinstance(v, list):\n",
    "                    v = ', '.join(v)\n",
    "                string += f\"{k}: {v} \"\n",
    "        else:\n",
    "            string += f\"{category}: {category_data} \"\n",
    "    \n",
    "    return string\n",
    "\n",
    "\n",
    "\n",
    "def transform_dict_to_string(data):\n",
    "    full_string = \"\"\n",
    "\n",
    "    for category in data:\n",
    "        full_string += create_category_string(category, data)\n",
    "        full_string += \" \"\n",
    "    \n",
    "    return full_string.strip()\n",
    "\n",
    "\n"
   ]
  },
  {
   "cell_type": "code",
   "execution_count": 3,
   "id": "539d7d55-ad74-4bd5-a938-44d446049369",
   "metadata": {},
   "outputs": [],
   "source": [
    "def anonymize_with_ner(texts, ner_results):\n",
    "    new_texts = []\n",
    "    for text, ents in zip(texts, ner_results):\n",
    "        name_map = {}\n",
    "        name_id = 1\n",
    "        for ent in ents:\n",
    "            if ent['entity_group'] == 'PER':\n",
    "                name = ent['word']\n",
    "                if name not in name_map:\n",
    "                    name_map[name] = f\"name{name_id}\"\n",
    "                    name_id += 1\n",
    "                text = text.replace(name, name_map[name])\n",
    "        new_texts.append(text)\n",
    "    return new_texts"
   ]
  },
  {
   "cell_type": "code",
   "execution_count": 4,
   "id": "c9738a63-f38c-4e95-9ea0-92d1b3b0285b",
   "metadata": {},
   "outputs": [],
   "source": [
    "def preprocess_text(text):\n",
    "    \"\"\"Not used for transformers\"\"\"\n",
    "    \n",
    "    text = text.lower()\n",
    "    \n",
    "    text = re.sub(r'[^\\w\\s]', '', text)\n",
    "    \n",
    "    tokens = word_tokenize(text)\n",
    "    \n",
    "    stop_words = set(stopwords.words('english'))\n",
    "    \n",
    "    tokens = [token for token in tokens if token not in stop_words]\n",
    "    \n",
    "    ps = PorterStemmer()\n",
    "    \n",
    "    tokens = [ps.stem(token) for token in tokens]\n",
    "    \n",
    "    return tokens"
   ]
  },
  {
   "cell_type": "code",
   "execution_count": 5,
   "id": "3dddc1fe-caa1-4528-b2e4-45776e618783",
   "metadata": {},
   "outputs": [],
   "source": [
    "tell_me_again_df = pd.read_csv(\"data/tell_me_again.csv\")\n",
    "tell_me_again_df['label'] = tell_me_again_df.groupby('title').ngroup()\n",
    "tell_me_again_df['property_count'] = tell_me_again_df['label'].map(tell_me_again_df['label'].value_counts())"
   ]
  },
  {
   "cell_type": "code",
   "execution_count": 6,
   "id": "5bf49966-7711-48fc-9bf8-10df3c71b0b0",
   "metadata": {},
   "outputs": [],
   "source": [
    "# only select summaries if there are 2 or more summaries of the same movie\n",
    "tell_me_again_df = tell_me_again_df[tell_me_again_df.property_count >= 2]"
   ]
  },
  {
   "cell_type": "code",
   "execution_count": 7,
   "id": "3e943735-399a-47d7-9b7d-8acda00d955a",
   "metadata": {},
   "outputs": [],
   "source": [
    "summary_indices = random.sample(list(set(tell_me_again_df.label)),1000)"
   ]
  },
  {
   "cell_type": "code",
   "execution_count": 8,
   "id": "1559ff6e-a085-44f6-bc50-2a269418670b",
   "metadata": {},
   "outputs": [],
   "source": [
    "tell_me_again_df = tell_me_again_df[tell_me_again_df.label.isin(summary_indices)]"
   ]
  },
  {
   "cell_type": "code",
   "execution_count": 9,
   "id": "ebbeb313-49d3-4047-97fa-5eb3d4181f67",
   "metadata": {},
   "outputs": [
    {
     "name": "stderr",
     "output_type": "stream",
     "text": [
      "No model was supplied, defaulted to dbmdz/bert-large-cased-finetuned-conll03-english and revision 4c53496 (https://huggingface.co/dbmdz/bert-large-cased-finetuned-conll03-english).\n",
      "Using a pipeline without specifying a model name and revision in production is not recommended.\n",
      "Some weights of the model checkpoint at dbmdz/bert-large-cased-finetuned-conll03-english were not used when initializing BertForTokenClassification: ['bert.pooler.dense.bias', 'bert.pooler.dense.weight']\n",
      "- This IS expected if you are initializing BertForTokenClassification from the checkpoint of a model trained on another task or with another architecture (e.g. initializing a BertForSequenceClassification model from a BertForPreTraining model).\n",
      "- This IS NOT expected if you are initializing BertForTokenClassification from the checkpoint of a model that you expect to be exactly identical (initializing a BertForSequenceClassification model from a BertForSequenceClassification model).\n",
      "Device set to use cuda:0\n",
      "C:\\Users\\emiel\\.conda\\envs\\thesis_environment\\Lib\\site-packages\\transformers\\pipelines\\token_classification.py:170: UserWarning: `grouped_entities` is deprecated and will be removed in version v5.0.0, defaulted to `aggregation_strategy=\"AggregationStrategy.SIMPLE\"` instead.\n",
      "  warnings.warn(\n"
     ]
    }
   ],
   "source": [
    "ner_pipeline = pipeline(\"ner\", grouped_entities=True)\n",
    "\n",
    "dataset = Dataset.from_pandas(tell_me_again_df[['unpacked_summary']])\n",
    "\n",
    "#ner_results = ner_pipeline(dataset['unpacked_summary'], batch_size=16)\n",
    "\n",
    "#tell_me_again_df['unpacked_summary'] = anonymize_with_ner(dataset['unpacked_summary'], ner_results)"
   ]
  },
  {
   "cell_type": "code",
   "execution_count": 10,
   "id": "82ef89e8-4ddc-4376-9916-68d848ed2193",
   "metadata": {},
   "outputs": [
    {
     "data": {
      "text/plain": [
       "'Leia, a 21-year-old woman, is found by the police after seventeen years of captivity in a cellar. His kidnapper, Benjamin, is immediately thrown into prison. Leia finds her parents, her home, but she has no memory of them or where she lived. Despite the attention of her relatives and the psychological help given to her, Leia is unable to regain her marks. She secretly cuts out all the press clippings about Ben, who has been her only companion for so many years. Paradoxically, she still has feelings for him and fails to bond with her parents.'"
      ]
     },
     "execution_count": 10,
     "metadata": {},
     "output_type": "execute_result"
    }
   ],
   "source": [
    "tell_me_again_df.unpacked_summary.iloc[1231]"
   ]
  },
  {
   "cell_type": "code",
   "execution_count": 11,
   "id": "05ef60c7-3ee7-4a4a-8e2d-d30b0558b1cd",
   "metadata": {},
   "outputs": [],
   "source": [
    "labels = tell_me_again_df.label.tolist()\n",
    "texts = tell_me_again_df.unpacked_summary.tolist()"
   ]
  },
  {
   "cell_type": "code",
   "execution_count": 12,
   "id": "e6468d44-4e2e-4f28-9a14-24664499210e",
   "metadata": {},
   "outputs": [],
   "source": [
    "device = torch.device(\"cuda\" if torch.cuda.is_available() else \"cpu\")"
   ]
  },
  {
   "cell_type": "code",
   "execution_count": 13,
   "id": "3aa49a79-675c-48e7-b242-f84e59c0d79c",
   "metadata": {},
   "outputs": [
    {
     "data": {
      "text/plain": [
       "device(type='cuda')"
      ]
     },
     "execution_count": 13,
     "metadata": {},
     "output_type": "execute_result"
    }
   ],
   "source": [
    "device"
   ]
  },
  {
   "cell_type": "code",
   "execution_count": 13,
   "id": "05ff60af-c78a-42e9-a031-9e7094fd9941",
   "metadata": {},
   "outputs": [],
   "source": [
    "model = SentenceTransformer(\"sentence-transformers/all-mpnet-base-v2\", device=device)\n",
    "embedder = dspy.Embedder(model.encode)"
   ]
  },
  {
   "cell_type": "code",
   "execution_count": 14,
   "id": "4ffe6768-c44c-4db6-954e-14699c49ff8f",
   "metadata": {},
   "outputs": [],
   "source": [
    "embeddings = embedder(texts)"
   ]
  },
  {
   "cell_type": "code",
   "execution_count": 15,
   "id": "ff5cddba-5bd7-43b7-833d-643c4a460312",
   "metadata": {},
   "outputs": [],
   "source": [
    "from sklearn.feature_extraction.text import TfidfVectorizer\n",
    "from rank_bm25 import BM25Okapi\n",
    "\n",
    "def build_index(embeddings, normalize_vectors=True):\n",
    "    if normalize_vectors:\n",
    "        return normalize(embeddings, axis=1)\n",
    "    return embeddings\n",
    "\n",
    "def get_dense_similarity(query_vector, candidate_vectors):\n",
    "    return np.dot(candidate_vectors, query_vector.T).flatten()\n",
    "\n",
    "def get_bm25_scores(corpus, query, bm25=None):\n",
    "    if bm25 is None:\n",
    "        bm25 = BM25Okapi([doc for doc in corpus])\n",
    "    return bm25.get_scores(query)\n",
    "\n",
    "def get_relevance_scores(i, labels, data, index, k=None, method='dense', bm25=None):\n",
    "    if k is None:\n",
    "        k = len(labels)\n",
    "\n",
    "    query_label = labels[i]\n",
    "    matching_labels = np.where(np.array(labels) == query_label)[0]\n",
    "\n",
    "    if method == 'dense':\n",
    "        query_vector = index[i].reshape(1, -1)\n",
    "        similarities = get_dense_similarity(query_vector, index)\n",
    "    elif method == 'bm25':\n",
    "        query_text = data[i]\n",
    "        similarities = get_bm25_scores(data, query_text, bm25)\n",
    "    else:\n",
    "        raise ValueError(\"Unsupported method. Use 'dense' or 'bm25'.\")\n",
    "\n",
    "    top_k_indices = np.argsort(similarities)[::-1]\n",
    "    top_k_indices = top_k_indices[top_k_indices != i][:k]\n",
    "\n",
    "    relevance_scores = [1 if x in matching_labels else 0 for x in top_k_indices]\n",
    "    ideal_relevance_scores = sorted(relevance_scores, reverse=True)\n",
    "\n",
    "    return ideal_relevance_scores, relevance_scores\n",
    "\n",
    "def calculate_mean_ndcg_score(labels, data, embeddings=None, method='dense'):\n",
    "    if method == 'dense':\n",
    "        embeddings = np.array(embeddings).astype('float32')\n",
    "        index = build_index(embeddings)\n",
    "        get_index = lambda: index\n",
    "        bm25 = None\n",
    "    elif method == 'bm25':\n",
    "        index = data\n",
    "        get_index = lambda: index\n",
    "        bm25 = BM25Okapi([doc for doc in data])\n",
    "    else:\n",
    "        raise ValueError(\"Method must be 'dense' or 'bm25'.\")\n",
    "\n",
    "    ideal_relevance_scores = []\n",
    "    relevance_scores = []\n",
    "\n",
    "    for i in [labels.index(x) for x in list(set(labels))]:\n",
    "        irs, rs = get_relevance_scores(i, labels, data, get_index(), method=method, bm25=bm25)\n",
    "        ideal_relevance_scores.append(irs)\n",
    "        relevance_scores.append(rs)\n",
    "\n",
    "    return ndcg_score(np.array(ideal_relevance_scores), np.array(relevance_scores))\n"
   ]
  },
  {
   "cell_type": "code",
   "execution_count": 16,
   "id": "cb3df4de-487e-40f8-85a0-4c5ace64545f",
   "metadata": {},
   "outputs": [
    {
     "name": "stdout",
     "output_type": "stream",
     "text": [
      "CPU times: total: 8.75 s\n",
      "Wall time: 8.62 s\n"
     ]
    },
    {
     "data": {
      "text/plain": [
       "np.float64(0.5915919671919618)"
      ]
     },
     "execution_count": 16,
     "metadata": {},
     "output_type": "execute_result"
    }
   ],
   "source": [
    "%%time\n",
    "ndcg_dense = calculate_mean_ndcg_score(labels, data=texts, embeddings=embeddings, method='dense')\n",
    "ndcg_dense"
   ]
  },
  {
   "cell_type": "code",
   "execution_count": 17,
   "id": "99466f99-c8e0-4a63-b55d-b3b7d3e69117",
   "metadata": {},
   "outputs": [
    {
     "name": "stderr",
     "output_type": "stream",
     "text": [
      "\n",
      "KeyboardInterrupt\n",
      "\n"
     ]
    }
   ],
   "source": [
    "%%time\n",
    "ndcg_bm25 = calculate_mean_ndcg_score(labels, data=[preprocess_text(text) for text in texts], method='bm25')\n",
    "ndcg_bm25"
   ]
  },
  {
   "cell_type": "markdown",
   "id": "ece5afc6-00e5-4858-992c-cbb6ca87320e",
   "metadata": {},
   "source": [
    "# 2. Zero-shot Ollama + DSPy"
   ]
  },
  {
   "cell_type": "code",
   "execution_count": 14,
   "id": "05ab2b93-753c-4864-abd2-2509e62eef50",
   "metadata": {},
   "outputs": [],
   "source": [
    "texts = anonymize_with_ner(dataset['unpacked_summary'][:50], ner_pipeline(dataset['unpacked_summary'][:50], batch_size=1))"
   ]
  },
  {
   "cell_type": "code",
   "execution_count": 30,
   "id": "fd09e8c3-a8de-4372-8487-c07d007e292c",
   "metadata": {},
   "outputs": [],
   "source": [
    "from ollama import chat\n",
    "from pydantic import BaseModel, Field\n",
    "from typing import Literal, Optional, List\n",
    "\n",
    "class Character(BaseModel):\n",
    "    name: str # removed in post-processing, helps the model establish seperate identities\n",
    "    role: Optional[str]\n",
    "    actantial_role: Optional[Literal[\"subject\", \"object\", \"opponent\", \"helper\", \"sender\", \"receiver\"]]\n",
    "    age: Optional[int]\n",
    "    backstory: Optional[str]\n",
    "    beliefs: Optional[list[str]]\n",
    "    weaknesses: Optional[list[str]] \n",
    "    strengths: Optional[list[str]] \n",
    "    motivations: Optional[list[str]] \n",
    "\n",
    "class Setting(BaseModel):\n",
    "    time_periods: list[str]\n",
    "    locations: list[str] \n",
    "    cultural_context: list[str]\n",
    "\n",
    "class Plot(BaseModel):\n",
    "\n",
    "    \n",
    "    conflict: Optional[Literal[\"person vs. person\", \"person vs. self\", \"person vs. nature\", \"person vs.society\", \"person vs. fate\", \"person vs. supernatural\", \"person vs. technology\"]]\n",
    "    basic_plot: Optional[Literal[\"Overcoming the Monster\", \"Rags to Riches\", \"The Quest\", \"Voyage and Return\", \"Comedy\", \"Tragedy\", \"Rebirth\"]] = Field(None, description=\"Select one of the following basic plot types:\"\n",
    "    \"- Overcoming the Monster: The protagonist sets out to defeat an antagonistic force (often evil) which threatens the protagonist and/or protagonist's homeland\"\n",
    "    \"- Rags to Riches: The poor protagonist acquires things such as power, wealth, and a mate, before losing it all and gaining it back upon growing as a person.\"  \n",
    "    \"- The Quest: The protagonist and some companions set out to acquire an important object or to get to a location, facing many obstacles and temptations along the way.\"\n",
    "    \"- Voyage and Return: The protagonist goes to a strange land and, after overcoming the threats it poses to him or her, returns with nothing but experience.\"  \n",
    "    \"- Comedy: Light and humorous character with a happy or cheerful ending; a dramatic work in which the central motif is the triumph over adverse circumstance, resulting in a successful or happy conclusion.Booker makes sure to stress that comedy is more than humor. It refers to a pattern where the conflict becomes more and more confusing, but is at last made plain in a single clarifying event. Most romances fall into this category.\"                                                                                                                                                    \n",
    "    \"- Tragedy: The protagonist is a hero with one major character flaw or great mistake which is ultimately their undoing. Their unfortunate end evokes pity at their folly and the fall of a fundamentally 'good' character.\"\n",
    "    \"- Rebirth: During the course of the story, an important event forces the main character to change their ways, often making them a better person. \"                                                                                                                                                   \n",
    "                                                                                                                                                       )\n",
    "    story_exposition: Optional[str]\n",
    "    story_rising_action: Optional[str]\n",
    "    story_climax: Optional[str]\n",
    "    story_falling_action: Optional[str]\n",
    "    story_resolution: Optional[str]\n",
    "    \n",
    "class Theme(BaseModel):\n",
    "    main_themes: Optional[list[str]]\n",
    "    secondary_themes: Optional[list[str]]\n",
    "    morals: Optional[list[str]]\n",
    "    \n",
    "class Other(BaseModel):\n",
    "    main_genres: Optional[list[Literal[\"action\", \"comedy\", \"drama\", \"erotic fiction\", \"horror\", \"mystery\", \"period piece\", \"romance\", \"thriller\"]]]\n",
    "    sub_genres: Optional[list[Literal[\n",
    "    \"action horror\",\n",
    "    \"actual play\",\n",
    "    \"alternate history\",\n",
    "    \"analog horror\",\n",
    "    \"bad girl comic\",\n",
    "    \"christian fiction\",\n",
    "    \"cosmic horror story\",\n",
    "    \"criminal procedural\",\n",
    "    \"coming of age story\",\n",
    "    \"cooking stories\",\n",
    "    \"costume drama\",\n",
    "    \"conspiracy thriller\",\n",
    "    \"cyberpunk\",\n",
    "    \"the epic\",\n",
    "    \"fable\",\n",
    "    \"fairy tale\",\n",
    "    \"fantasy\",\n",
    "    \"film noir\",\n",
    "    \"gangster fiction\",\n",
    "    \"genius thriller\",\n",
    "    \"gunpowder fantasy\",\n",
    "    \"harem genre\",\n",
    "    \"heroic pet story\",\n",
    "    \"historical detective fiction\",\n",
    "    \"historical fiction\",\n",
    "    \"jidaigeki\",\n",
    "    \"jungle opera\",\n",
    "    \"magical girl genre\",\n",
    "    \"mecha show\",\n",
    "    \"military and warfare\",\n",
    "    \"military science fiction\",\n",
    "    \"mons series\",\n",
    "    \"music stories\",\n",
    "    \"new queer cinema\",\n",
    "    \"new weird\",\n",
    "    \"non-fiction\",\n",
    "    \"professional wrestling\",\n",
    "    \"psychological thriller\",\n",
    "    \"queer media\",\n",
    "    \"queer romance\",\n",
    "    \"police procedural\",\n",
    "    \"realistic fiction\",\n",
    "    \"religious edutainment\",\n",
    "    \"romantic comedy\",\n",
    "    \"satire/parody/pastiche\",\n",
    "    \"school stories\",\n",
    "    \"science fiction\",\n",
    "    \"sea stories\",\n",
    "    \"sex comedy\",\n",
    "    \"slipstream genre\",\n",
    "    \"space opera\",\n",
    "    \"speculative fiction\",\n",
    "    \"spirit cultivation genre\",\n",
    "    \"sports stories\",\n",
    "    \"superhero stories\",\n",
    "    \"true crime\",\n",
    "    \"the western\",\n",
    "    \"wuxia\",\n",
    "    \"xenofiction\"\n",
    "]]]\n",
    "    content_warnings: Optional[list[str]]\n",
    "    \n",
    "class Elements(BaseModel):\n",
    "    characters: list[Character]\n",
    "    setting: Setting\n",
    "    plot: Plot\n",
    "    theme: Theme\n",
    "    other: Other\n",
    "    \n"
   ]
  },
  {
   "cell_type": "code",
   "execution_count": 34,
   "id": "9b1812d5-9d64-47d3-becf-62f1755ea979",
   "metadata": {},
   "outputs": [
    {
     "name": "stdout",
     "output_type": "stream",
     "text": [
      "CPU times: total: 0 ns\n",
      "Wall time: 11.2 s\n"
     ]
    },
    {
     "data": {
      "text/plain": [
       "\"characters: role: elderly widow actantial_role: subject age: 80 backstory: lives in a large villa in Auxerre, together with the elderly maid name2, who is constantly harassed by the despotic lady. beliefs: despotic lady, misdeeds weaknesses: harassment, mistreatment strengths: kindness, generosity motivations: protecting her home, seeking peace role: elderly maid actantial_role: subject age: 80 backstory: constantly harassed by the despotic lady. beliefs: despotic lady weaknesses: harassment strengths: loyalty, quiet motivations: protecting name1 role: elderly woman actantial_role: subject age: 30 backstory: believed by all to be gentle and kind, soon reveals her evil and domineering character and begins to mistreat the grandchildren for no reason, as she did with name2. beliefs: gentle, kind, dominating weaknesses: naive, easily manipulated strengths: compassion, intelligence motivations: protecting her family, seeking validation role: young caregiver actantial_role: subject age: 20 backstory: initially tries to please the old woman by approving of her provocative behavior, but after a very short time the young woman decides to respond to name3 using her own ways; name8's strategy works and the old woman even falls in love with her, lending her money to repair her automobile and giving her the diamond pin coveted by her grandchildren. beliefs: pleasing, help weaknesses: naive, easily influenced strengths: resourcefulness, empathy motivations: helping, finding affection role: nice beautician actantial_role: subject age: 40 backstory: tries in every way to please her aunt and make her feel comfortable, but the woman repays her with all kinds of spite. beliefs: pleasing, comfort weaknesses: spite, resentment strengths: resourcefulness, charm motivations: protecting her aunt, seeking validation role: naive name actantial_role: subject age: 10 backstory: constantly mocked by her aunt, who thinks she's an idiot. beliefs: naive, ignored weaknesses: lack of confidence strengths: innocence motivations: seeking validation role: elderly man actantial_role: subject age: 80 backstory: even to momentarily escape the unbearable presence of the aunt, leaves for three weeks by going to a holiday village in Greece and leave the woman in the care of a young caregiver, name8. beliefs: despotic lady weaknesses: isolated, untrusting strengths: experience, wisdom motivations: protecting his family role: young caregiver actantial_role: subject age: 25 backstory: initially tries to please the old woman by approving of her provocative behavior, but after a very short time the young woman decides to respond to name3 using her own ways; name8's strategy works and the old woman even falls in love with her, lending her money to repair her automobile and giving her the diamond pin coveted by her grandchildren. beliefs: kindness, compassion weaknesses: naive, easily influenced strengths: resourcefulness, empathy motivations: helping, finding affection role: tourist actantial_role: subject age: 35 backstory: reunited with name8 and the two women are happily enjoying a vacation around the world. beliefs: happiness, adventure weaknesses: shallow, unaware strengths: optimism, social skills motivations: enjoyment  setting: time_periods: summer, Greece locations: holiday village, beach cultural_context: holiday village, Greece  plot: conflict: person vs. person story_exposition: a series of events leading to the reveal of the aunt's evil nature and the subsequent events. story_rising_action: the events surrounding the fire and the subsequent manipulation. story_climax: the confrontation between name3 and name8, and the unveiling of the aunt's true nature. story_falling_action: the aftermath of the scandal and the recovery of the elderly woman. story_resolution: the reunion and the restoration of peace.  theme: main_themes: revenge, love, betrayal, family, redemption secondary_themes: isolation, disgust, resentment morals: don't judge by appearances, help those in need, be wary of those who seem kind  other: main_genres: drama, romance, mystery sub_genres: historical fiction content_warnings: violence, abuse\""
      ]
     },
     "execution_count": 34,
     "metadata": {},
     "output_type": "execute_result"
    }
   ],
   "source": [
    "%%time\n",
    "response = chat(\n",
    "    messages=[\n",
    "    {\"role\": \"system\", \"content\": f\"Return as a JSON object. Individual elements can be None or [] if they are not derivable from the text.\"},\n",
    "    {\"role\": \"user\", \"content\": texts[23]}\n",
    "    ],\n",
    "    model='gemma3:1b-it-qat',\n",
    "    format=Elements.model_json_schema(),\n",
    "    options = {'temperature':0}\n",
    ")\n",
    "transform_dict_to_string(json.loads(response.message.content))\n",
    "#elements = Elements.model_validate_json(response1.message.content)\n",
    "#print(elements)"
   ]
  },
  {
   "cell_type": "code",
   "execution_count": 32,
   "id": "e2e1e0e2-622b-43e3-83be-719baf69a11e",
   "metadata": {},
   "outputs": [
    {
     "data": {
      "text/plain": [
       "Elements(characters=[Character(name='name1', role='elderly widow', actantial_role='subject', age=80, backstory='lives in a large villa in Auxerre, together with the elderly maid name2, who is constantly harassed by the despotic lady.', beliefs=['despotic lady', 'misdeeds'], weaknesses=['harassment', 'mistreatment'], strengths=['kindness', 'generosity'], motivations=['protecting her home', 'seeking peace']), Character(name='name2', role='elderly maid', actantial_role='subject', age=80, backstory='constantly harassed by the despotic lady.', beliefs=['despotic lady'], weaknesses=['harassment'], strengths=['loyalty', 'quiet'], motivations=['protecting name1']), Character(name='name3', role='elderly woman', actantial_role='subject', age=30, backstory='believed by all to be gentle and kind, soon reveals her evil and domineering character and begins to mistreat the grandchildren for no reason, as she did with name2.', beliefs=['gentle', 'kind', 'dominating'], weaknesses=['naive', 'easily manipulated'], strengths=['compassion', 'intelligence'], motivations=['protecting her family', 'seeking validation']), Character(name='name4', role='young caregiver', actantial_role='subject', age=20, backstory=\"initially tries to please the old woman by approving of her provocative behavior, but after a very short time the young woman decides to respond to name3 using her own ways; name8's strategy works and the old woman even falls in love with her, lending her money to repair her automobile and giving her the diamond pin coveted by her grandchildren.\", beliefs=['pleasing', 'help'], weaknesses=['naive', 'easily influenced'], strengths=['resourcefulness', 'empathy'], motivations=['helping', 'finding affection']), Character(name='name5', role='nice beautician', actantial_role='subject', age=40, backstory='tries in every way to please her aunt and make her feel comfortable, but the woman repays her with all kinds of spite.', beliefs=['pleasing', 'comfort'], weaknesses=['spite', 'resentment'], strengths=['resourcefulness', 'charm'], motivations=['protecting her aunt', 'seeking validation']), Character(name='name6', role='naive name', actantial_role='subject', age=10, backstory=\"constantly mocked by her aunt, who thinks she's an idiot.\", beliefs=['naive', 'ignored'], weaknesses=['lack of confidence'], strengths=['innocence'], motivations=['seeking validation']), Character(name='name7', role='elderly man', actantial_role='subject', age=80, backstory='even to momentarily escape the unbearable presence of the aunt, leaves for three weeks by going to a holiday village in Greece and leave the woman in the care of a young caregiver, name8.', beliefs=['despotic lady'], weaknesses=['isolated', 'untrusting'], strengths=['experience', 'wisdom'], motivations=['protecting his family']), Character(name='name8', role='young caregiver', actantial_role='subject', age=25, backstory=\"initially tries to please the old woman by approving of her provocative behavior, but after a very short time the young woman decides to respond to name3 using her own ways; name8's strategy works and the old woman even falls in love with her, lending her money to repair her automobile and giving her the diamond pin coveted by her grandchildren.\", beliefs=['kindness', 'compassion'], weaknesses=['naive', 'easily influenced'], strengths=['resourcefulness', 'empathy'], motivations=['helping', 'finding affection']), Character(name='name9', role='tourist', actantial_role='subject', age=35, backstory='reunited with name8 and the two women are happily enjoying a vacation around the world.', beliefs=['happiness', 'adventure'], weaknesses=['shallow', 'unaware'], strengths=['optimism', 'social skills'], motivations=['enjoyment'])], setting=Setting(time_periods=['summer', 'Greece'], locations=['holiday village', 'beach'], cultural_context=['holiday village', 'Greece']), plot=Plot(conflict='person vs. person', basic_plot=None, story_exposition=\"a series of events leading to the reveal of the aunt's evil nature and the subsequent events.\", story_rising_action='the events surrounding the fire and the subsequent manipulation.', story_climax=\"the confrontation between name3 and name8, and the unveiling of the aunt's true nature.\", story_falling_action='the aftermath of the scandal and the recovery of the elderly woman.', story_resolution='the reunion and the restoration of peace.'), theme=Theme(main_themes=['revenge', 'love', 'betrayal', 'family', 'redemption'], secondary_themes=['isolation', 'disgust', 'resentment'], morals=[\"don't judge by appearances\", 'help those in need', 'be wary of those who seem kind']), other=Other(main_genres=['drama', 'romance', 'mystery'], sub_genres=['historical fiction'], content_warnings=['violence', 'abuse']))"
      ]
     },
     "execution_count": 32,
     "metadata": {},
     "output_type": "execute_result"
    }
   ],
   "source": [
    "Elements.model_validate_json(response.message.content)"
   ]
  },
  {
   "cell_type": "code",
   "execution_count": null,
   "id": "26d78ac2-334a-4bcb-9f48-47f30fba6d1b",
   "metadata": {},
   "outputs": [],
   "source": [
    "str1 = transform_dict_to_string(json.loads(response1.message.content))\n",
    "str2 = transform_dict_to_string(json.loads(response2.message.content))\n",
    "\n",
    "emb1 = embedder(str1)\n",
    "emb2 = embedder(str2)"
   ]
  },
  {
   "cell_type": "code",
   "execution_count": null,
   "id": "e447ae97-6997-4d5b-aa55-0e3e07c72e5e",
   "metadata": {},
   "outputs": [],
   "source": [
    "cosine_similarity(emb1.reshape(1, -1), emb2.reshape(1, -1))"
   ]
  },
  {
   "cell_type": "code",
   "execution_count": 22,
   "id": "9111cd48-990f-492c-9c21-16185622ca72",
   "metadata": {},
   "outputs": [
    {
     "data": {
      "text/plain": [
       "\"name1, 80-year-old widow of a colonel, lives in a large villa in Auxerre together with the elderly maid name2, who is constantly harassed by the despotic lady. When name2 dies in a fall from a ladder, the elderly name3 is forced to move to Paris to live with her nephew Jean-Pierre. name3, believed by all to be gentle and kind, soon reveals her evil and domineering character and begins to mistreat the grandchildren for no reason, as she did with name2. Jean-Pierre's wife, the nice beautician name5, tries in every way to please her aunt and make her feel comfortable, but the woman repays her with all kinds of spite. Jean-Pierre's sister, the naive name6, is also constantly mocked by her aunt, who thinks she's an idiot.\\nDuring the summer, the name7ards, even to momentarily escape the unbearable presence of the aunt, leave for three weeks by going to a holiday village in Greece and leave the woman in the care of a young caregiver, name8. The girl initially tries to please the old woman by approving of her provocative behavior, but after a very short time the young woman decides to respond to name3 using her own ways; name8's strategy works and the old woman even falls in love with her, lending her money to repair her automobile and giving her the diamond pin coveted by her grandchildren. The relationship between the two, however, is strained when name8 tells name3 that she wants to spend a night on the beach with her new flame, the tourist name9. The elderly woman objects, the two fight furiously, and name8 leaves the house. To get revenge on everyone, Aunt name3 sets fire to the name7ard apartment and, once rescued, makes everyone believe that she was abandoned for months by her family. The name7ards are overwhelmed by the scandal and name3's story ends up in the news; exhausted by the misdeeds of the wicked old woman, the name7ards have no choice but to hospitalize her in a nursing home, where name3 continues to torment nurses and other elderly women. name5, however, is filled with guilt and often goes to visit her aunt, who shows no gratitude. One morning, the woman mysteriously disappears from the hospice, taking all her belongings with her and not letting the staff or the grandchildren know anything. This seems to be the ultimate disdain for all those who have tried to help her: in fact, name3 is reunited with name8 and the two women are happily enjoying a vacation around the world.\""
      ]
     },
     "execution_count": 22,
     "metadata": {},
     "output_type": "execute_result"
    }
   ],
   "source": [
    "texts[23]"
   ]
  }
 ],
 "metadata": {
  "kernelspec": {
   "display_name": "Python 3 (ipykernel)",
   "language": "python",
   "name": "python3"
  },
  "language_info": {
   "codemirror_mode": {
    "name": "ipython",
    "version": 3
   },
   "file_extension": ".py",
   "mimetype": "text/x-python",
   "name": "python",
   "nbconvert_exporter": "python",
   "pygments_lexer": "ipython3",
   "version": "3.11.11"
  }
 },
 "nbformat": 4,
 "nbformat_minor": 5
}
