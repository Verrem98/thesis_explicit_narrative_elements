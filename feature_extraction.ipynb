{
 "cells": [
  {
   "cell_type": "code",
   "execution_count": 21,
   "id": "bff23553-84c7-4044-9f32-a5491408afe2",
   "metadata": {},
   "outputs": [
    {
     "name": "stderr",
     "output_type": "stream",
     "text": [
      "[nltk_data] Downloading package punkt to\n",
      "[nltk_data]     C:\\Users\\emiel\\AppData\\Roaming\\nltk_data...\n",
      "[nltk_data]   Package punkt is already up-to-date!\n",
      "[nltk_data] Downloading package stopwords to\n",
      "[nltk_data]     C:\\Users\\emiel\\AppData\\Roaming\\nltk_data...\n",
      "[nltk_data]   Package stopwords is already up-to-date!\n"
     ]
    }
   ],
   "source": [
    "import spacy\n",
    "import torch\n",
    "from transformers import AutoTokenizer, AutoModelForCausalLM\n",
    "from sentence_transformers import SentenceTransformer\n",
    "import pandas as pd\n",
    "from sklearn.metrics.pairwise import cosine_similarity\n",
    "from sklearn.metrics import ndcg_score\n",
    "import numpy as np\n",
    "import random\n",
    "from sklearn.preprocessing import normalize\n",
    "random.seed(42)\n",
    "import spacy\n",
    "import re\n",
    "from nltk.tokenize import word_tokenize\n",
    "from nltk.corpus import stopwords\n",
    "import nltk\n",
    "import dspy\n",
    "from nltk.stem import PorterStemmer\n",
    "nltk.download('punkt')\n",
    "from datasets import Dataset\n",
    "nltk.download('stopwords')\n",
    "from transformers import pipeline\n",
    "import ast\n",
    "import json\n"
   ]
  },
  {
   "cell_type": "code",
   "execution_count": 22,
   "id": "cc40b892-f5a0-409f-8491-bba51ea8cff1",
   "metadata": {},
   "outputs": [],
   "source": [
    "def create_category_string(category, dictionary):\n",
    "    string = f\"{category}: \"\n",
    "    \n",
    "    if category in dictionary:\n",
    "        category_data = dictionary[category]\n",
    "        if isinstance(category_data, list):\n",
    "            for item in category_data:\n",
    "                for k, v in item.items():\n",
    "                    if k == 'name':  \n",
    "                        continue\n",
    "                    if isinstance(v, list):\n",
    "                        v = ', '.join(v)\n",
    "                    string += f\"{k}: {v} \"\n",
    "        elif isinstance(category_data, dict):\n",
    "            for k, v in category_data.items():\n",
    "                if k == 'name': \n",
    "                    continue\n",
    "                if isinstance(v, list):\n",
    "                    v = ', '.join(v)\n",
    "                string += f\"{k}: {v} \"\n",
    "        else:\n",
    "            string += f\"{category}: {category_data} \"\n",
    "    \n",
    "    return string\n",
    "\n",
    "\n",
    "\n",
    "def transform_dict_to_string(data):\n",
    "    full_string = \"\"\n",
    "\n",
    "    for category in data:\n",
    "        full_string += create_category_string(category, data)\n",
    "        full_string += \" \"\n",
    "    \n",
    "    return full_string.strip()"
   ]
  },
  {
   "cell_type": "code",
   "execution_count": 23,
   "id": "539d7d55-ad74-4bd5-a938-44d446049369",
   "metadata": {},
   "outputs": [],
   "source": [
    "from transformers import pipeline\n",
    "from collections import defaultdict\n",
    "import re\n",
    "from tqdm import tqdm\n",
    "\n",
    "class CharacterAnonymizer:\n",
    "    def __init__(self, batch_size=16):\n",
    "        self.ner_pipeline = pipeline(\n",
    "            \"ner\",\n",
    "            model=\"Jean-Baptiste/roberta-large-ner-english\",\n",
    "            aggregation_strategy=\"simple\",\n",
    "            device=0 \n",
    "        )\n",
    "        self.batch_size = batch_size\n",
    "\n",
    "    def normalize_name(self, name):\n",
    "        \"\"\"Normalize name: lowercase, remove punctuation.\"\"\"\n",
    "        name = name.lower()\n",
    "        name = re.sub(r\"[^a-z ]\", \"\", name)\n",
    "        return name.strip()\n",
    "\n",
    "    def extract_names_batch(self, texts):\n",
    "        \"\"\"Run NER in batch and extract PERSON names per document.\"\"\"\n",
    "        ner_results_batch = self.ner_pipeline(texts)\n",
    "        all_names = []\n",
    "        for ner_results in ner_results_batch:\n",
    "            names = [ent['word'] for ent in ner_results if ent['entity_group'] == 'PER']\n",
    "            normalized = list(set(self.normalize_name(name) for name in names))\n",
    "            all_names.append(normalized)\n",
    "        return all_names\n",
    "\n",
    "    def cluster_names(self, names):\n",
    "        \"\"\"Cluster similar names by shared first tokens.\"\"\"\n",
    "        clusters = defaultdict(list)\n",
    "        used = set()\n",
    "\n",
    "        for name in names:\n",
    "            if not name.strip():\n",
    "                continue\n",
    "            if name in used:\n",
    "                continue\n",
    "            parts = name.split()\n",
    "            if not parts:\n",
    "                continue\n",
    "            key = parts[0]\n",
    "            for other in names:\n",
    "                if key in other and other not in used:\n",
    "                    clusters[key].append(other)\n",
    "                    used.add(other)\n",
    "        return clusters\n",
    "\n",
    "    def generate_name_map(self, clusters):\n",
    "        \"\"\"Create CharacterN mapping for each name variant.\"\"\"\n",
    "        name_map = {}\n",
    "        for i, (key, variants) in enumerate(clusters.items(), start=1):\n",
    "            tag = f\"Character{i}\"\n",
    "            for name in variants:\n",
    "                name_map[name] = tag\n",
    "        return name_map\n",
    "\n",
    "    def replace_names(self, text, name_map):\n",
    "        \"\"\"Replace all name variants in the original text with CharacterN.\"\"\"\n",
    "        for original in sorted(name_map.keys(), key=len, reverse=True):\n",
    "            pattern = re.compile(rf'\\b{re.escape(original)}\\b', re.IGNORECASE)\n",
    "            text = pattern.sub(name_map[original], text)\n",
    "        return text\n",
    "\n",
    "    def anonymize_batch(self, texts):\n",
    "        \"\"\"Anonymize texts in batches with a progress bar.\"\"\"\n",
    "        anonymized_texts = []\n",
    "\n",
    "        for i in tqdm(range(0, len(texts), self.batch_size), desc=\"Anonymizing\"):\n",
    "            batch = texts[i:i + self.batch_size]\n",
    "            all_names = self.extract_names_batch(batch)\n",
    "\n",
    "            for text, names in zip(batch, all_names):\n",
    "                clusters = self.cluster_names(names)\n",
    "                name_map = self.generate_name_map(clusters)\n",
    "                anonymized = self.replace_names(text, name_map)\n",
    "                anonymized_texts.append(anonymized)\n",
    "\n",
    "        return anonymized_texts\n"
   ]
  },
  {
   "cell_type": "code",
   "execution_count": 24,
   "id": "c9738a63-f38c-4e95-9ea0-92d1b3b0285b",
   "metadata": {},
   "outputs": [],
   "source": [
    "def preprocess_text(text):\n",
    "    \"\"\"Not used for transformers\"\"\"\n",
    "    \n",
    "    text = text.lower()\n",
    "    \n",
    "    text = re.sub(r'[^\\w\\s]', '', text)\n",
    "    \n",
    "    tokens = word_tokenize(text)\n",
    "    \n",
    "    stop_words = set(stopwords.words('english'))\n",
    "    \n",
    "    tokens = [token for token in tokens if token not in stop_words]\n",
    "    \n",
    "    ps = PorterStemmer()\n",
    "    \n",
    "    tokens = [ps.stem(token) for token in tokens]\n",
    "    \n",
    "    return tokens"
   ]
  },
  {
   "cell_type": "code",
   "execution_count": 25,
   "id": "3dddc1fe-caa1-4528-b2e4-45776e618783",
   "metadata": {},
   "outputs": [],
   "source": [
    "tell_me_again_df = pd.read_csv(\"data/tell_me_again.csv\")\n",
    "tell_me_again_df['label'] = tell_me_again_df.groupby('title').ngroup()"
   ]
  },
  {
   "cell_type": "code",
   "execution_count": 26,
   "id": "6157bdae-a1aa-4a61-b49d-6b99bf9e6372",
   "metadata": {},
   "outputs": [],
   "source": [
    "summary_lengths = tell_me_again_df['unpacked_summary'].str.len()\n",
    "\n",
    "# Calculate the 75th and 90th percentiles\n",
    "lower_bound = summary_lengths.quantile(0.7)\n",
    "upper_bound = summary_lengths.quantile(0.95)\n",
    "\n",
    "# Filter the DataFrame\n",
    "tell_me_again_df = tell_me_again_df[\n",
    "    (summary_lengths >= lower_bound) & (summary_lengths <= upper_bound)\n",
    "]\n"
   ]
  },
  {
   "cell_type": "code",
   "execution_count": 27,
   "id": "5bf49966-7711-48fc-9bf8-10df3c71b0b0",
   "metadata": {},
   "outputs": [
    {
     "data": {
      "text/plain": [
       "(5962, 8)"
      ]
     },
     "execution_count": 27,
     "metadata": {},
     "output_type": "execute_result"
    }
   ],
   "source": [
    "tell_me_again_df['property_count'] = tell_me_again_df['label'].map(tell_me_again_df['label'].value_counts())\n",
    "tell_me_again_df = tell_me_again_df[tell_me_again_df.property_count >= 3]\n",
    "tell_me_again_df.shape"
   ]
  },
  {
   "cell_type": "code",
   "execution_count": 28,
   "id": "3e943735-399a-47d7-9b7d-8acda00d955a",
   "metadata": {},
   "outputs": [],
   "source": [
    "summary_indices = random.sample(list(set(tell_me_again_df.label)),1100)"
   ]
  },
  {
   "cell_type": "code",
   "execution_count": 29,
   "id": "1559ff6e-a085-44f6-bc50-2a269418670b",
   "metadata": {},
   "outputs": [],
   "source": [
    "tell_me_again_df = tell_me_again_df[tell_me_again_df.label.isin(summary_indices)]"
   ]
  },
  {
   "cell_type": "code",
   "execution_count": 11,
   "id": "ebbeb313-49d3-4047-97fa-5eb3d4181f67",
   "metadata": {},
   "outputs": [
    {
     "name": "stderr",
     "output_type": "stream",
     "text": [
      "No model was supplied, defaulted to dbmdz/bert-large-cased-finetuned-conll03-english and revision 4c53496 (https://huggingface.co/dbmdz/bert-large-cased-finetuned-conll03-english).\n",
      "Using a pipeline without specifying a model name and revision in production is not recommended.\n",
      "\n",
      "KeyboardInterrupt\n",
      "\n"
     ]
    }
   ],
   "source": [
    "tell_me_again_df = tell_me_again_df.sort_values(by=\"title\").reset_index()\n",
    "ner_pipeline = pipeline(\"ner\", grouped_entities=True)\n",
    "\n",
    "dataset = Dataset.from_pandas(tell_me_again_df.sort_values(by=\"title\")[['unpacked_summary']])\n",
    "\n",
    "#ner_results = ner_pipeline(dataset['unpacked_summary'], batch_size=16)\n",
    "\n",
    "#tell_me_again_df['unpacked_summary'] = anonymize_with_ner(dataset['unpacked_summary'], ner_results)"
   ]
  },
  {
   "cell_type": "code",
   "execution_count": null,
   "id": "91d46dc1-6faf-4490-adee-84519ac0ed8d",
   "metadata": {},
   "outputs": [],
   "source": []
  },
  {
   "cell_type": "code",
   "execution_count": null,
   "id": "19926006-08ed-498e-96b1-6a647edb41a3",
   "metadata": {},
   "outputs": [],
   "source": []
  },
  {
   "cell_type": "markdown",
   "id": "ece5afc6-00e5-4858-992c-cbb6ca87320e",
   "metadata": {},
   "source": [
    "# 2. Zero-shot Ollama + DSPy"
   ]
  },
  {
   "cell_type": "code",
   "execution_count": null,
   "id": "05ab2b93-753c-4864-abd2-2509e62eef50",
   "metadata": {},
   "outputs": [],
   "source": [
    "#anonymizer = CharacterAnonymizer(batch_size=32)\n",
    "#texts = anonymizer.anonymize_batch(dataset['unpacked_summary'])\n"
   ]
  },
  {
   "cell_type": "code",
   "execution_count": 15,
   "id": "fd09e8c3-a8de-4372-8487-c07d007e292c",
   "metadata": {},
   "outputs": [],
   "source": [
    "from ollama import chat\n",
    "from pydantic import BaseModel, Field\n",
    "from typing import Literal, Optional, List\n",
    "from pydantic import conlist\n",
    "\n",
    "class Character(BaseModel):\n",
    "    name: str # removed in post-processing, helps the model establish seperate identities\n",
    "    role: Optional[Literal[\"protagonist\", \"antagonist\",\"love interest\",\"confidant\", \"deuteragonist\", \"tertiary character\", \"foil\"]]\n",
    "    backstory: Optional[str] = Field(description=\"A brief account of the character's past experiences, upbringing, or defining events that shape their current identity and actions.\")\n",
    "    weaknesses: Optional[list[str]] = Field(description=\"Flaws, limitations, or vulnerabilities—emotional, physical, or psychological—that challenge the character or hinder their goals.\")\n",
    "    strengths: Optional[list[str]] = Field(description=\"Key abilities, virtues, or resources—such as intelligence, bravery, charm, or magical powers—that help the character overcome obstacles.\")\n",
    "    motivations: Optional[list[str]] = Field(description=\"Core desires or driving forces behind the character's decisions and actions, such as revenge, love, freedom, or self-discovery.\")\n",
    "\n",
    "class Setting(BaseModel):\n",
    "    time_periods: Optional[list[str]] = Field(description=\"Historical or futuristic eras in which the story takes place (e.g., Victorian England, post-apocalyptic future, 1990s).\")\n",
    "    locations: Optional[list[str]] = Field(description=\"Specific geographical or fictional places where the story unfolds, such as cities, countries, regions, or imaginary worlds.\")\n",
    "    cultural_context: Optional[list[str]] = Field(description=\"The societal, historical, or ideological backdrop influencing the story—such as traditions, belief systems, political climates, or social norms.\")\n",
    "\n",
    "class Plot(BaseModel):\n",
    "    conflict: Optional[Literal[\"person vs. person\", \"person vs. self\", \"person vs. nature\", \"person vs.society\", \"person vs. fate\", \"person vs. machine\", \"person vs. the unknown\"]]\n",
    "    basic_plot: Optional[Literal[\"overcoming the Monster\", \"rags to Riches\", \"the Quest\", \"voyage and Return\", \"comedy\", \"tragedy\", \"rebirth\"]]                                                                                                                                                                                                                                                                                \n",
    "    story_exposition_summary: Optional[str] = Field(description=\"A summary of the story's beginning, introducing the main characters, setting, and the initial situation or status quo.\")\n",
    "    story_rising_action_summary: Optional[str] = Field(description=\"A summary of the events that build tension and develop the conflict, leading up to the story's climax.\")\n",
    "    story_climax_summary: Optional[str] = Field(description=\"A summary of the turning point or most intense moment in the story, where the main conflict reaches its peak.\")\n",
    "    story_falling_action_summary: Optional[str] = Field(description=\"A summary of the events following the climax, showing the consequences of the turning point and moving toward resolution.\")\n",
    "    story_resolution_summary: Optional[str] = Field(description=\"A summary of how the story concludes, resolving major conflicts and revealing the final outcomes for the characters.\")\n",
    "    \n",
    "class Theme(BaseModel):\n",
    "    themes: Optional[list[str]] = Field(description=\"Central ideas or underlying topics explored throughout the story—such as identity, power, love, or justice.\")\n",
    "    morals: Optional[list[str]] = Field(description=\"Lessons or ethical takeaways the story imparts to the audience, often reflecting the consequences of characters' choices or actions.\")\n",
    "    \n",
    "class Other(BaseModel):\n",
    "    main_genres: Optional[list[Literal[\"action\", \"comedy\", \"drama\", \"erotic fiction\", \"horror\", \"mystery\", \"period piece\", \"romance\", \"thriller\"]]]\n",
    "    genre_keywords: Optional[list[str]] = Field(description=\"Descriptive terms that indicate sub-genres, tones, or stylistic elements of the story—such as dystopian, noir, slapstick, gothic, or psychological.\")\n",
    "    \n",
    "class Elements(BaseModel):\n",
    "    characters: conlist(Character, min_length=0, max_length=5)\n",
    "    setting: Setting\n",
    "    plot: Plot\n",
    "    theme: Theme\n",
    "    other: Other\n",
    "    \n",
    "\n"
   ]
  },
  {
   "cell_type": "code",
   "execution_count": 16,
   "id": "6b2c9df7-8ff3-4f7f-9edf-832b72fadd39",
   "metadata": {},
   "outputs": [],
   "source": [
    "prompt_additions = {\n",
    "\n",
    "    \"basic_plot\": \"\"\"- overcoming the Monster: The protagonist sets out to defeat an antagonistic force (often evil) which threatens the protagonist and/or protagonist's homeland\n",
    "- rags to Riches: The poor protagonist acquires things such as power, wealth, and a mate, before losing it all and gaining it back upon growing as a person.\n",
    "- the Quest: The protagonist and some companions set out to acquire an important object or to get to a location, facing many obstacles and temptations along the way.\n",
    "- voyage and Return: The protagonist goes to a strange land and, after overcoming the threats it poses to him or her, returns with nothing but experience.\n",
    "- comedy: Light and humorous character with a happy or cheerful ending; a dramatic work in which the central motif is the triumph over adverse circumstance, resulting in a successful or happy conclusion. Booker makes sure to stress that comedy is more than humor. It refers to a pattern where the conflict becomes more and more confusing, but is at last made plain in a single clarifying event. Most romances fall into this category.\n",
    "- tragedy: The protagonist is a hero with one major character flaw or great mistake which is ultimately their undoing. Their unfortunate end evokes pity at their folly and the fall of a fundamentally 'good' character.\n",
    "- rebirth: During the course of the story, an important event forces the main character to change their ways, often making them a better person.\"\"\",\n",
    "\n",
    "    \"role\": \"\"\"- protagonist: The main character of the story is the protagonist. They should be carefully crafted with a logical backstory, personal motivation, and a character arc over the course of the story. Often the story will be told from their point of view.\n",
    "- antagonist: The villain of the story is the antagonist.\n",
    "- confidant: This type of character is the best friend or sidekick of the protagonist. Often the protagonist's goal flows through the confidant—although not every story needs one.\n",
    "- deuteragonist: These characters often overlap with confidants. A deuteragonist is close to the main character, but the story’s main plot does not directly correspond with their own character arc.\n",
    "- tertiary character: Tertiary characters populate the world of the story but do not necessarily link to the main storyline. These minor characters serve any number of functions and may have varying degrees of personal dynamism.\n",
    "- foil: A foil character primarily exists to bring the protagonist’s qualities into sharper relief. This is because the foil is effectively the opposite of the protagonist.\"\"\",\n",
    "\n",
    "    \"conflict\": \"\"\"- person vs. person: The problem is another character\n",
    "- person vs. self: The problem lies inside the protagonist\n",
    "- person vs. nature: The problem comes from non-sapient sources\n",
    "- person vs. fate: The problem is an undesirable destiny, which may also involve divine will.\n",
    "- person vs. machine:  As in machinery. Most commonly told from the perspective of a worker being replaced by a machine\n",
    "- person vs. the unknown: Has also been proposed as the type that codifies Horror, where the enemy is the incomprehensible, otherworldly or extraterrestrial.\"\"\"\n",
    "    \n",
    "}"
   ]
  },
  {
   "cell_type": "code",
   "execution_count": 17,
   "id": "04acae87-0d09-4863-a924-64bc59cc8175",
   "metadata": {},
   "outputs": [],
   "source": [
    "from pydantic import BaseModel, Field\n",
    "from typing import get_args, get_origin\n",
    "\n",
    "def extract_field_descriptions(model, parent_key=''):\n",
    "    field_descriptions = {}\n",
    "    for name, field in model.model_fields.items():\n",
    "        full_key = f\"{parent_key}.{name}\" if parent_key else name\n",
    "\n",
    "        # Unwrap annotations for Optional, List, etc.\n",
    "        annotation = field.annotation\n",
    "        origin = get_origin(annotation)\n",
    "\n",
    "        if origin in (list, tuple, dict):\n",
    "            inner_args = get_args(annotation)\n",
    "            if inner_args:\n",
    "                annotation = inner_args[0]  # Drill down one level\n",
    "\n",
    "        # Check if this is a nested Pydantic model\n",
    "        if isinstance(annotation, type) and issubclass(annotation, BaseModel):\n",
    "            field_descriptions.update(extract_field_descriptions(annotation, full_key))\n",
    "        else:\n",
    "            description = field.description\n",
    "            if description:\n",
    "                field_descriptions[full_key] = description\n",
    "\n",
    "    return field_descriptions\n",
    "\n",
    "    \n",
    "field_descriptions = extract_field_descriptions(Elements)"
   ]
  },
  {
   "cell_type": "code",
   "execution_count": 18,
   "id": "4aed4d6f-abb6-44aa-8f2d-e6b342428a4e",
   "metadata": {},
   "outputs": [],
   "source": [
    "field_desc_str = \"\\n\".join(f\"- `{k}`: {v}\" for k, v in field_descriptions.items())"
   ]
  },
  {
   "cell_type": "code",
   "execution_count": 19,
   "id": "e14ac10d-ee96-4f2a-83a8-ce36d74d7408",
   "metadata": {},
   "outputs": [],
   "source": [
    "prompt_addition_str = \"\"\n",
    "for k,v in prompt_additions.items():\n",
    "    prompt_addition_str += f\"{k} information: {v}\\n\""
   ]
  },
  {
   "cell_type": "code",
   "execution_count": 84,
   "id": "4a856310-c736-4398-8dc6-4cc6c0834812",
   "metadata": {},
   "outputs": [],
   "source": [
    "tell_me_again_df = pd.read_excel('data/tell_me_again_df_with_elements_v5.xlsx', engine='openpyxl')"
   ]
  },
  {
   "cell_type": "code",
   "execution_count": 87,
   "id": "6643b3fa-9478-4365-b419-1a636296d94d",
   "metadata": {},
   "outputs": [
    {
     "data": {
      "text/plain": [
       "{'characters': [{'name': 'Detective Jang Hae-jun',\n",
       "   'role': 'protagonist',\n",
       "   'backstory': 'Insomniac detective working in Pusan, strained marriage with Jeong-an. Obsessive about his work.',\n",
       "   'weaknesses': ['Insomnia',\n",
       "    'Emotional vulnerability',\n",
       "    'Obsessive tendencies',\n",
       "    'Easily manipulated'],\n",
       "   'strengths': ['Intelligence', 'Deductive reasoning', 'Perseverance'],\n",
       "   'motivations': ['Solving cases', 'Finding truth', 'Seeking connection']},\n",
       "  {'name': 'Seo-rae',\n",
       "   'role': 'antagonist',\n",
       "   'backstory': 'Chinese immigrant with a troubled past, killed her mother at her request, inherited land from Korean grandfather. Uses manipulation to achieve her goals.',\n",
       "   'weaknesses': ['Deceptive', 'Ruthless', 'Emotionally unstable'],\n",
       "   'strengths': ['Manipulation', 'Resourcefulness', 'Calculative'],\n",
       "   'motivations': ['Reclaiming inheritance',\n",
       "    'Control',\n",
       "    'Seeking a specific partner']},\n",
       "  {'name': 'Jeong-an',\n",
       "   'role': 'deuteragonist',\n",
       "   'backstory': \"Hae-jun's wife, works at a nuclear plant, feels neglected in their marriage.\",\n",
       "   'weaknesses': ['Susceptible to infidelity', 'Emotional distance'],\n",
       "   'strengths': ['Resilience', 'Intuition'],\n",
       "   'motivations': ['Love', 'Family', 'Stability']}],\n",
       " 'setting': {'time_periods': ['Modern'],\n",
       "  'locations': ['Pusan', 'Ipo', 'Korean mountains', 'Beaches'],\n",
       "  'cultural_context': ['Korean society',\n",
       "   'Immigrant communities',\n",
       "   'Police investigation procedures']},\n",
       " 'plot': {'conflict': 'person vs. person',\n",
       "  'basic_plot': 'overcoming the Monster',\n",
       "  'story_exposition_summary': \"Detective Hae-jun investigates the death of Ki Do-soo, initially suspecting his wife Seo-rae. The story introduces Hae-jun's troubled personal life and his growing fascination with Seo-rae.\",\n",
       "  'story_rising_action_summary': \"Hae-jun delves deeper into Seo-rae's past, uncovering her troubled history and a possible motive for the murder. He becomes increasingly involved with Seo-rae, falling in love with her while simultaneously investigating her. He discovers inconsistencies and hidden truths, leading him to believe she is responsible.\",\n",
       "  'story_climax_summary': \"Hae-jun uncovers Seo-rae's manipulation of events, including the exchange of phones and the forged farewell letter. He confronts her, accusing her of orchestrating the murder and approaching him to destroy evidence.\",\n",
       "  'story_falling_action_summary': 'Hae-jun covers up the evidence and orders Seo-rae to dispose of the incriminating phone. He moves to Ipo to live with Jeong-an, but his depression and insomnia worsen. A new murder occurs, leading him to suspect Seo-rae once again.',\n",
       "  'story_resolution_summary': \"Hae-jun investigates the new murder, uncovering a complex web of deceit and betrayal. He discovers Seo-rae's continued manipulation and her desperate attempts to control him. The story ends with Seo-rae disappearing, leaving Hae-jun heartbroken and uncertain.\"},\n",
       " 'theme': {'themes': ['Obsession',\n",
       "   'Manipulation',\n",
       "   'Deception',\n",
       "   'Love and betrayal',\n",
       "   'Identity'],\n",
       "  'morals': ['Appearances can be deceiving',\n",
       "   'Obsession can lead to destruction',\n",
       "   'Trust is fragile']},\n",
       " 'other': {'main_genres': ['thriller', 'mystery', 'romance'],\n",
       "  'genre_keywords': ['noir', 'psychological', 'suspenseful']}}"
      ]
     },
     "execution_count": 87,
     "metadata": {},
     "output_type": "execute_result"
    }
   ],
   "source": [
    "json.loads(tell_me_again_df.extracted_elements.iloc[4])"
   ]
  },
  {
   "cell_type": "code",
   "execution_count": 83,
   "id": "ba02b697-1bc9-40c3-b9d3-14c7ac91cd5d",
   "metadata": {},
   "outputs": [
    {
     "data": {
      "text/plain": [
       "{'characters': [{'name': 'Nolan/Thomas',\n",
       "   'role': 'protagonist',\n",
       "   'backstory': \"Nolan suffered amnesia after a car accident where his wife died. He is later revealed to be Thomas, whose brain waves were implanted into Nolan's body after Thomas's death.\",\n",
       "   'weaknesses': ['Submissive nature',\n",
       "    'Violent outbursts',\n",
       "    'Memory loss',\n",
       "    'Easily manipulated'],\n",
       "   'strengths': ['Love for his daughter',\n",
       "    'Former skills as a photojournalist'],\n",
       "   'motivations': ['Regaining his memory',\n",
       "    'Protecting his daughter',\n",
       "    'Making amends for past actions']},\n",
       "  {'name': 'Gary',\n",
       "   'role': 'confidant',\n",
       "   'backstory': \"Nolan's best friend and an orthopedic doctor who supports him throughout his ordeal.\",\n",
       "   'weaknesses': [\"Concern for his friend's well-being\"],\n",
       "   'strengths': ['Loyalty', 'Medical expertise'],\n",
       "   'motivations': ['Helping Nolan regain his life', 'Protecting Ava']},\n",
       "  {'name': 'Dr. Brooks',\n",
       "   'role': 'antagonist',\n",
       "   'backstory': \"A doctor who saved Thomas's brain waves and implanted them into Nolan's body after his death. She continues her experiments despite the consequences.\",\n",
       "   'weaknesses': ['Obsession with her experiments', 'Deception'],\n",
       "   'strengths': ['Medical expertise', 'Hypnosis skills'],\n",
       "   'motivations': ['Advancing her research',\n",
       "    \"Controlling Thomas's brain waves\"]},\n",
       "  {'name': 'Miranda',\n",
       "   'role': 'deuteragonist',\n",
       "   'backstory': 'The woman Thomas remembers from his visions, and the mother of Ava.',\n",
       "   'weaknesses': ['Fear', 'Initial distrust'],\n",
       "   'strengths': ['Protectiveness of her daughter', 'Courage'],\n",
       "   'motivations': ['Protecting her daughter', 'Discovering the truth']}],\n",
       " 'setting': {'time_periods': ['Modern era'],\n",
       "  'locations': ['Hospital',\n",
       "   \"Nolan's apartment\",\n",
       "   \"Miranda's apartment\",\n",
       "   \"Dr. Brooks' laboratory\"],\n",
       "  'cultural_context': ['Contemporary medical ethics', 'Family dynamics']},\n",
       " 'plot': {'conflict': 'person vs. self',\n",
       "  'basic_plot': 'rebirth',\n",
       "  'story_exposition_summary': \"A summary of the story's beginning, introducing the main characters, setting, and the initial situation or status quo.\",\n",
       "  'story_rising_action_summary': \"Nolan struggles with amnesia and violent outbursts while undergoing experimental therapy to regain his memory. He discovers fragmented memories and a connection to a woman named Miranda, leading him to question his identity and past. Gary becomes increasingly concerned about Nolan's behavior and uncovers Dr. Brooks's deception.\",\n",
       "  'story_climax_summary': \"Nolan discovers he is actually Thomas, whose brain waves were implanted into Nolan's body. He confronts Dr. Brooks and attempts to make amends for his actions, leading to a violent confrontation with Miranda and a struggle for control of his body.\",\n",
       "  'story_falling_action_summary': \"Nolan regains control of his body and reunites with his daughter and Gary. Dr. Brooks's equipment is destroyed, and she is discharged from the hospital. However, she continues her experiments from home.\",\n",
       "  'story_resolution_summary': \"Nolan, Ava, Miranda, and Gary return to normal life, but the threat of Dr. Brooks's continued experiments remains.\"},\n",
       " 'theme': {'themes': ['Identity',\n",
       "   'Memory',\n",
       "   'Control',\n",
       "   'Redemption',\n",
       "   'The ethics of medical experimentation'],\n",
       "  'morals': [\"The importance of accepting one's past\",\n",
       "   'The dangers of unchecked ambition',\n",
       "   'The power of love and forgiveness']},\n",
       " 'other': {'main_genres': ['thriller', 'mystery', 'horror'],\n",
       "  'genre_keywords': ['psychological',\n",
       "   'suspense',\n",
       "   'body swap',\n",
       "   'identity crisis']}}"
      ]
     },
     "execution_count": 83,
     "metadata": {},
     "output_type": "execute_result"
    }
   ],
   "source": [
    "json.loads(tell_me_again_df.extracted_elements.iloc[1])"
   ]
  },
  {
   "cell_type": "code",
   "execution_count": 18,
   "id": "d82e309c-adbf-44c1-8bed-ee8eb2d4f0e1",
   "metadata": {},
   "outputs": [],
   "source": [
    "dataset = Dataset.from_pandas(tell_me_again_df[['unpacked_summary']])"
   ]
  },
  {
   "cell_type": "code",
   "execution_count": 25,
   "id": "c1266f0d-30aa-4b2b-b82e-28f92e3c15ef",
   "metadata": {},
   "outputs": [],
   "source": [
    "lst = []\n",
    "texts = tell_me_again_df['extracted_elements'].tolist()\n",
    "for i in range(len(texts)):\n",
    "    try:\n",
    "        transform_dict_to_string(json.loads(texts[i]))\n",
    "    except:\n",
    "        lst.append(i)"
   ]
  },
  {
   "cell_type": "code",
   "execution_count": 26,
   "id": "e5bdbfc3-1907-4780-a4c4-d8bc4099fec2",
   "metadata": {},
   "outputs": [
    {
     "data": {
      "text/plain": [
       "0"
      ]
     },
     "execution_count": 26,
     "metadata": {},
     "output_type": "execute_result"
    }
   ],
   "source": [
    "len(lst)"
   ]
  },
  {
   "cell_type": "code",
   "execution_count": 24,
   "id": "60f87e7a-eaaf-4a2b-91bc-9952d452f51b",
   "metadata": {},
   "outputs": [
    {
     "name": "stderr",
     "output_type": "stream",
     "text": [
      "Processing remaining texts: 100%|██████████████████████████████████████████████████████████████████████████████████████████████████████████████████████████████████████████████████████████████████████████████████████████████████████████████████████████████████████████████████| 1/1 [00:10<00:00, 10.04s/text]\n"
     ]
    }
   ],
   "source": [
    "from tqdm import tqdm\n",
    "from ollama import chat\n",
    "\n",
    "n = 1\n",
    "output_excel_path = 'data/tell_me_again_df_with_elements_v4.xlsx'\n",
    "\n",
    "\n",
    "if 'extracted_elements' not in tell_me_again_df.columns:\n",
    "    tell_me_again_df['extracted_elements'] = None\n",
    "\n",
    "\n",
    "for i in tqdm(lst, desc=\"Processing remaining texts\", unit=\"text\"):\n",
    "    text = tell_me_again_df.loc[i, 'unpacked_summary']\n",
    "    try:\n",
    "        response = chat(\n",
    "            messages=[\n",
    "                {\n",
    "        \"role\": \"system\",\n",
    "        \"content\": (\n",
    "            \"You are a narrative analysis system. Your task is to extract major narrative elements from the following story text, \"\n",
    "            \"returning the output strictly as a JSON object that conforms to the given schema\\n\\n\"\n",
    "            \"**Field Descriptions:**\\n\"\n",
    "            f\"{field_desc_str}\\n\\n\"\n",
    "            \"**Rules:**\\n\"\n",
    "            \"- Output must be valid JSON, compatible with the provided schema.\\n\"\n",
    "            \"- If any field is not derivable, return `None` or `[]` as appropriate.\\n\"\n",
    "            \"- Do not invent or speculate beyond the text and given context.\\n\"\n",
    "            \"- Do not include explanations, markdown, or any text outside the JSON.\\n\"\n",
    "            \"- Limit total response length to under 3000 characters.\\n\"\n",
    "            \"- Answer in a concise manner.\\n\"\n",
    "            \"- Stay structured. Do not exceed requested fields or cardinalities.\\n\"\n",
    "            \"- Use the following information to help inform extraction: \" + prompt_addition_str + \"\\n\"\n",
    "            \n",
    ")\n",
    "                },\n",
    "                {\"role\": \"user\", \"content\": text}\n",
    "            ],\n",
    "            model='gemma3:1b-it-qat',\n",
    "            format=Elements.model_json_schema(),\n",
    "            options={'temperature': 0}\n",
    "        )\n",
    "\n",
    "        tell_me_again_df.at[i, 'extracted_elements'] = response.message.content\n",
    "\n",
    "        if ((i + 1) % n == 0) or (i + 1 == len(tell_me_again_df)):\n",
    "            tell_me_again_df.to_excel(output_excel_path, index=False, engine='openpyxl')\n",
    "\n",
    "    except Exception as e:\n",
    "        print(f\"Error processing index {i}: {e}\")\n",
    "        continue\n"
   ]
  },
  {
   "cell_type": "code",
   "execution_count": null,
   "id": "7c13161a-a477-4977-81d0-306a616758f6",
   "metadata": {},
   "outputs": [],
   "source": [
    "from tqdm import tqdm\n",
    "import pandas as pd\n",
    "import json\n",
    "from ollama import chat\n",
    "from together import Together\n",
    "\n",
    "n = 1\n",
    "output_excel_path = 'data/tell_me_again_df_with_elements_v4.xlsx'\n",
    "client = Together(api_key = \"c1ef86a6ea17871ab9c5996b869b6420f862f504a18150761f12bcdb5478b9cd\")\n",
    "#tell_me_again_df = pd.read_excel(output_excel_path, engine='openpyxl')\n",
    "\n",
    "if 'extracted_elements' not in tell_me_again_df.columns:\n",
    "    tell_me_again_df['extracted_elements'] = None\n",
    "\n",
    "texts_to_process = tell_me_again_df[tell_me_again_df['extracted_elements'].isna()]\n",
    "\n",
    "for i in tqdm(texts_to_process.index, desc=\"Processing remaining texts\", unit=\"text\"):\n",
    "    text = tell_me_again_df.loc[i, 'unpacked_summary']\n",
    "    try:\n",
    "        response =  client.chat.completions.create(\n",
    "            messages=[\n",
    "                {\n",
    "        \"role\": \"system\",\n",
    "        \"content\": (\n",
    "            \"You are a narrative analysis system. Your task is to extract major narrative elements from the following story text, \"\n",
    "            \"returning the output strictly as a JSON object that conforms to the given schema\\n\\n\"\n",
    "            \"**Field Descriptions:**\\n\"\n",
    "            f\"{field_desc_str}\\n\\n\"\n",
    "            \"**Rules:**\\n\"\n",
    "            \"- Output must be valid JSON, compatible with the provided schema.\\n\"\n",
    "            \"- If any field is not derivable, return `None` or `[]` as appropriate.\\n\"\n",
    "            \"- Do not invent or speculate beyond the text and given context.\\n\"\n",
    "            \"- Do not include explanations, markdown, or any text outside the JSON.\\n\"\n",
    "            \"- Limit total response length to under 3000 characters.\\n\"\n",
    "            \"- Answer in a concise manner.\\n\"\n",
    "            \"- Stay structured. Do not exceed requested fields or cardinalities.\\n\"\n",
    "            \"- Use the following information to help inform extraction: \" + prompt_addition_str + \"\\n\"\n",
    "            \n",
    ")\n",
    "                },\n",
    "                {\"role\": \"user\", \"content\": text}\n",
    "            ],\n",
    "            model='deepseek-ai/DeepSeek-V3',\n",
    "            #format=Elements.model_json_schema(),\n",
    "            #options={'temperature': 0}\n",
    "        )\n",
    "\n",
    "        tell_me_again_df.at[i, 'extracted_elements'] = response.message.content\n",
    "\n",
    "        if ((i + 1) % n == 0) or (i + 1 == len(tell_me_again_df)):\n",
    "            tell_me_again_df.to_excel(output_excel_path, index=False, engine='openpyxl')\n",
    "\n",
    "    except Exception as e:\n",
    "        print(f\"Error processing index {i}: {e}\")\n",
    "        continue\n"
   ]
  },
  {
   "cell_type": "code",
   "execution_count": null,
   "id": "51d8e8e5-c834-497b-a872-c6d9d40c4314",
   "metadata": {},
   "outputs": [],
   "source": [
    "tell_me_again_df"
   ]
  },
  {
   "cell_type": "code",
   "execution_count": null,
   "id": "26d78ac2-334a-4bcb-9f48-47f30fba6d1b",
   "metadata": {},
   "outputs": [],
   "source": [
    "str1 = transform_dict_to_string(json.loads(response1.message.content))\n",
    "str2 = transform_dict_to_string(json.loads(response2.message.content))\n",
    "\n",
    "emb1 = embedder(str1)\n",
    "emb2 = embedder(str2)"
   ]
  },
  {
   "cell_type": "code",
   "execution_count": null,
   "id": "e447ae97-6997-4d5b-aa55-0e3e07c72e5e",
   "metadata": {},
   "outputs": [],
   "source": [
    "cosine_similarity(emb1.reshape(1, -1), emb2.reshape(1, -1))"
   ]
  },
  {
   "cell_type": "code",
   "execution_count": 22,
   "id": "9111cd48-990f-492c-9c21-16185622ca72",
   "metadata": {},
   "outputs": [
    {
     "data": {
      "text/plain": [
       "\"name1, 80-year-old widow of a colonel, lives in a large villa in Auxerre together with the elderly maid name2, who is constantly harassed by the despotic lady. When name2 dies in a fall from a ladder, the elderly name3 is forced to move to Paris to live with her nephew Jean-Pierre. name3, believed by all to be gentle and kind, soon reveals her evil and domineering character and begins to mistreat the grandchildren for no reason, as she did with name2. Jean-Pierre's wife, the nice beautician name5, tries in every way to please her aunt and make her feel comfortable, but the woman repays her with all kinds of spite. Jean-Pierre's sister, the naive name6, is also constantly mocked by her aunt, who thinks she's an idiot.\\nDuring the summer, the name7ards, even to momentarily escape the unbearable presence of the aunt, leave for three weeks by going to a holiday village in Greece and leave the woman in the care of a young caregiver, name8. The girl initially tries to please the old woman by approving of her provocative behavior, but after a very short time the young woman decides to respond to name3 using her own ways; name8's strategy works and the old woman even falls in love with her, lending her money to repair her automobile and giving her the diamond pin coveted by her grandchildren. The relationship between the two, however, is strained when name8 tells name3 that she wants to spend a night on the beach with her new flame, the tourist name9. The elderly woman objects, the two fight furiously, and name8 leaves the house. To get revenge on everyone, Aunt name3 sets fire to the name7ard apartment and, once rescued, makes everyone believe that she was abandoned for months by her family. The name7ards are overwhelmed by the scandal and name3's story ends up in the news; exhausted by the misdeeds of the wicked old woman, the name7ards have no choice but to hospitalize her in a nursing home, where name3 continues to torment nurses and other elderly women. name5, however, is filled with guilt and often goes to visit her aunt, who shows no gratitude. One morning, the woman mysteriously disappears from the hospice, taking all her belongings with her and not letting the staff or the grandchildren know anything. This seems to be the ultimate disdain for all those who have tried to help her: in fact, name3 is reunited with name8 and the two women are happily enjoying a vacation around the world.\""
      ]
     },
     "execution_count": 22,
     "metadata": {},
     "output_type": "execute_result"
    }
   ],
   "source": [
    "texts[23]"
   ]
  }
 ],
 "metadata": {
  "kernelspec": {
   "display_name": "Python 3 (ipykernel)",
   "language": "python",
   "name": "python3"
  },
  "language_info": {
   "codemirror_mode": {
    "name": "ipython",
    "version": 3
   },
   "file_extension": ".py",
   "mimetype": "text/x-python",
   "name": "python",
   "nbconvert_exporter": "python",
   "pygments_lexer": "ipython3",
   "version": "3.10.16"
  }
 },
 "nbformat": 4,
 "nbformat_minor": 5
}
