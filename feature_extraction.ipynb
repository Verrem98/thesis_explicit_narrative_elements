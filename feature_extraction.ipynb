{
 "cells": [
  {
   "cell_type": "code",
   "execution_count": 62,
   "id": "bff23553-84c7-4044-9f32-a5491408afe2",
   "metadata": {},
   "outputs": [
    {
     "name": "stderr",
     "output_type": "stream",
     "text": [
      "[nltk_data] Downloading package punkt to\n",
      "[nltk_data]     C:\\Users\\emiel\\AppData\\Roaming\\nltk_data...\n",
      "[nltk_data]   Package punkt is already up-to-date!\n",
      "[nltk_data] Downloading package stopwords to\n",
      "[nltk_data]     C:\\Users\\emiel\\AppData\\Roaming\\nltk_data...\n",
      "[nltk_data]   Package stopwords is already up-to-date!\n"
     ]
    }
   ],
   "source": [
    "import spacy\n",
    "import torch\n",
    "from transformers import AutoTokenizer, AutoModelForCausalLM\n",
    "from sentence_transformers import SentenceTransformer\n",
    "import pandas as pd\n",
    "from sklearn.metrics.pairwise import cosine_similarity\n",
    "from sklearn.metrics import ndcg_score\n",
    "import numpy as np\n",
    "import random\n",
    "from sklearn.preprocessing import normalize\n",
    "random.seed(42)\n",
    "import spacy\n",
    "import re\n",
    "from nltk.tokenize import word_tokenize\n",
    "from nltk.corpus import stopwords\n",
    "import nltk\n",
    "import dspy\n",
    "from nltk.stem import PorterStemmer\n",
    "nltk.download('punkt')\n",
    "from datasets import Dataset\n",
    "nltk.download('stopwords')\n",
    "from transformers import pipeline\n",
    "import ast\n",
    "import json\n"
   ]
  },
  {
   "cell_type": "code",
   "execution_count": 2,
   "id": "539d7d55-ad74-4bd5-a938-44d446049369",
   "metadata": {},
   "outputs": [],
   "source": [
    "def anonymize_with_ner(texts, ner_results):\n",
    "    new_texts = []\n",
    "    for text, ents in zip(texts, ner_results):\n",
    "        name_map = {}\n",
    "        name_id = 1\n",
    "        for ent in ents:\n",
    "            if ent['entity_group'] == 'PER':\n",
    "                name = ent['word']\n",
    "                if name not in name_map:\n",
    "                    name_map[name] = f\"name{name_id}\"\n",
    "                    name_id += 1\n",
    "                text = text.replace(name, name_map[name])\n",
    "        new_texts.append(text)\n",
    "    return new_texts"
   ]
  },
  {
   "cell_type": "code",
   "execution_count": 3,
   "id": "c9738a63-f38c-4e95-9ea0-92d1b3b0285b",
   "metadata": {},
   "outputs": [],
   "source": [
    "def preprocess_text(text):\n",
    "    text = text.lower()\n",
    "    \n",
    "    text = re.sub(r'[^\\w\\s]', '', text)\n",
    "    \n",
    "    tokens = word_tokenize(text)\n",
    "    \n",
    "    stop_words = set(stopwords.words('english'))\n",
    "    \n",
    "    tokens = [token for token in tokens if token not in stop_words]\n",
    "    \n",
    "    ps = PorterStemmer()\n",
    "    \n",
    "    tokens = [ps.stem(token) for token in tokens]\n",
    "    \n",
    "    return tokens"
   ]
  },
  {
   "cell_type": "code",
   "execution_count": 4,
   "id": "3dddc1fe-caa1-4528-b2e4-45776e618783",
   "metadata": {},
   "outputs": [],
   "source": [
    "tell_me_again_df = pd.read_csv(\"data/tell_me_again.csv\")\n",
    "tell_me_again_df['label'] = tell_me_again_df.groupby('title').ngroup()\n",
    "tell_me_again_df['property_count'] = tell_me_again_df['label'].map(tell_me_again_df['label'].value_counts())"
   ]
  },
  {
   "cell_type": "code",
   "execution_count": 5,
   "id": "5bf49966-7711-48fc-9bf8-10df3c71b0b0",
   "metadata": {},
   "outputs": [],
   "source": [
    "# only select summaries if there are 2 or more summaries of the same movie\n",
    "tell_me_again_df = tell_me_again_df[tell_me_again_df.property_count >= 2]"
   ]
  },
  {
   "cell_type": "code",
   "execution_count": 6,
   "id": "3e943735-399a-47d7-9b7d-8acda00d955a",
   "metadata": {},
   "outputs": [],
   "source": [
    "summary_indices = random.sample(list(set(tell_me_again_df.label)),1000)"
   ]
  },
  {
   "cell_type": "code",
   "execution_count": 7,
   "id": "1559ff6e-a085-44f6-bc50-2a269418670b",
   "metadata": {},
   "outputs": [],
   "source": [
    "tell_me_again_df = tell_me_again_df[tell_me_again_df.label.isin(summary_indices)]"
   ]
  },
  {
   "cell_type": "code",
   "execution_count": 8,
   "id": "ebbeb313-49d3-4047-97fa-5eb3d4181f67",
   "metadata": {},
   "outputs": [
    {
     "name": "stderr",
     "output_type": "stream",
     "text": [
      "No model was supplied, defaulted to dbmdz/bert-large-cased-finetuned-conll03-english and revision 4c53496 (https://huggingface.co/dbmdz/bert-large-cased-finetuned-conll03-english).\n",
      "Using a pipeline without specifying a model name and revision in production is not recommended.\n",
      "Some weights of the model checkpoint at dbmdz/bert-large-cased-finetuned-conll03-english were not used when initializing BertForTokenClassification: ['bert.pooler.dense.bias', 'bert.pooler.dense.weight']\n",
      "- This IS expected if you are initializing BertForTokenClassification from the checkpoint of a model trained on another task or with another architecture (e.g. initializing a BertForSequenceClassification model from a BertForPreTraining model).\n",
      "- This IS NOT expected if you are initializing BertForTokenClassification from the checkpoint of a model that you expect to be exactly identical (initializing a BertForSequenceClassification model from a BertForSequenceClassification model).\n",
      "Device set to use cuda:0\n",
      "C:\\Users\\emiel\\.conda\\envs\\thesis_environment\\Lib\\site-packages\\transformers\\pipelines\\token_classification.py:170: UserWarning: `grouped_entities` is deprecated and will be removed in version v5.0.0, defaulted to `aggregation_strategy=\"AggregationStrategy.SIMPLE\"` instead.\n",
      "  warnings.warn(\n"
     ]
    }
   ],
   "source": [
    "ner_pipeline = pipeline(\"ner\", grouped_entities=True)\n",
    "\n",
    "dataset = Dataset.from_pandas(tell_me_again_df[['unpacked_summary']])\n",
    "\n",
    "#ner_results = ner_pipeline(dataset['unpacked_summary'], batch_size=16)\n",
    "\n",
    "#tell_me_again_df['unpacked_summary'] = anonymize_with_ner(dataset['unpacked_summary'], ner_results)"
   ]
  },
  {
   "cell_type": "code",
   "execution_count": 9,
   "id": "82ef89e8-4ddc-4376-9916-68d848ed2193",
   "metadata": {},
   "outputs": [
    {
     "data": {
      "text/plain": [
       "'Leia, a 21-year-old woman, is found by the police after seventeen years of captivity in a cellar. His kidnapper, Benjamin, is immediately thrown into prison. Leia finds her parents, her home, but she has no memory of them or where she lived. Despite the attention of her relatives and the psychological help given to her, Leia is unable to regain her marks. She secretly cuts out all the press clippings about Ben, who has been her only companion for so many years. Paradoxically, she still has feelings for him and fails to bond with her parents.'"
      ]
     },
     "execution_count": 9,
     "metadata": {},
     "output_type": "execute_result"
    }
   ],
   "source": [
    "tell_me_again_df.unpacked_summary.iloc[1231]"
   ]
  },
  {
   "cell_type": "code",
   "execution_count": 10,
   "id": "05ef60c7-3ee7-4a4a-8e2d-d30b0558b1cd",
   "metadata": {},
   "outputs": [],
   "source": [
    "labels = tell_me_again_df.label.tolist()\n",
    "texts = tell_me_again_df.unpacked_summary.tolist()"
   ]
  },
  {
   "cell_type": "code",
   "execution_count": 63,
   "id": "e6468d44-4e2e-4f28-9a14-24664499210e",
   "metadata": {},
   "outputs": [],
   "source": [
    "device = torch.device(\"cuda\" if torch.cuda.is_available() else \"cpu\")"
   ]
  },
  {
   "cell_type": "code",
   "execution_count": 64,
   "id": "3aa49a79-675c-48e7-b242-f84e59c0d79c",
   "metadata": {},
   "outputs": [
    {
     "data": {
      "text/plain": [
       "device(type='cuda')"
      ]
     },
     "execution_count": 64,
     "metadata": {},
     "output_type": "execute_result"
    }
   ],
   "source": [
    "device"
   ]
  },
  {
   "cell_type": "code",
   "execution_count": 146,
   "id": "05ff60af-c78a-42e9-a031-9e7094fd9941",
   "metadata": {},
   "outputs": [],
   "source": [
    "model = SentenceTransformer(\"sentence-transformers/all-mpnet-base-v2\", device=device)\n",
    "embedder = dspy.Embedder(model.encode)"
   ]
  },
  {
   "cell_type": "code",
   "execution_count": 66,
   "id": "4ffe6768-c44c-4db6-954e-14699c49ff8f",
   "metadata": {},
   "outputs": [
    {
     "ename": "NameError",
     "evalue": "name 'texts' is not defined",
     "output_type": "error",
     "traceback": [
      "\u001b[31m---------------------------------------------------------------------------\u001b[39m",
      "\u001b[31mNameError\u001b[39m                                 Traceback (most recent call last)",
      "\u001b[36mCell\u001b[39m\u001b[36m \u001b[39m\u001b[32mIn[66]\u001b[39m\u001b[32m, line 1\u001b[39m\n\u001b[32m----> \u001b[39m\u001b[32m1\u001b[39m embeddings = embedder(\u001b[43mtexts\u001b[49m)\n",
      "\u001b[31mNameError\u001b[39m: name 'texts' is not defined"
     ]
    }
   ],
   "source": [
    "embeddings = embedder(texts)"
   ]
  },
  {
   "cell_type": "code",
   "execution_count": 15,
   "id": "ff5cddba-5bd7-43b7-833d-643c4a460312",
   "metadata": {},
   "outputs": [],
   "source": [
    "from sklearn.feature_extraction.text import TfidfVectorizer\n",
    "from rank_bm25 import BM25Okapi\n",
    "\n",
    "def build_index(embeddings, normalize_vectors=True):\n",
    "    if normalize_vectors:\n",
    "        return normalize(embeddings, axis=1)\n",
    "    return embeddings\n",
    "\n",
    "def get_dense_similarity(query_vector, candidate_vectors):\n",
    "    return np.dot(candidate_vectors, query_vector.T).flatten()\n",
    "\n",
    "def get_bm25_scores(corpus, query, bm25=None):\n",
    "    if bm25 is None:\n",
    "        bm25 = BM25Okapi([doc for doc in corpus])\n",
    "    return bm25.get_scores(query)\n",
    "\n",
    "def get_relevance_scores(i, labels, data, index, k=None, method='dense', bm25=None):\n",
    "    if k is None:\n",
    "        k = len(labels)\n",
    "\n",
    "    query_label = labels[i]\n",
    "    matching_labels = np.where(np.array(labels) == query_label)[0]\n",
    "\n",
    "    if method == 'dense':\n",
    "        query_vector = index[i].reshape(1, -1)\n",
    "        similarities = get_dense_similarity(query_vector, index)\n",
    "    elif method == 'bm25':\n",
    "        query_text = data[i]\n",
    "        similarities = get_bm25_scores(data, query_text, bm25)\n",
    "    else:\n",
    "        raise ValueError(\"Unsupported method. Use 'dense' or 'bm25'.\")\n",
    "\n",
    "    top_k_indices = np.argsort(similarities)[::-1]\n",
    "    top_k_indices = top_k_indices[top_k_indices != i][:k]\n",
    "\n",
    "    relevance_scores = [1 if x in matching_labels else 0 for x in top_k_indices]\n",
    "    ideal_relevance_scores = sorted(relevance_scores, reverse=True)\n",
    "\n",
    "    return ideal_relevance_scores, relevance_scores\n",
    "\n",
    "def calculate_mean_ndcg_score(labels, data, embeddings=None, method='dense'):\n",
    "    if method == 'dense':\n",
    "        embeddings = np.array(embeddings).astype('float32')\n",
    "        index = build_index(embeddings)\n",
    "        get_index = lambda: index\n",
    "        bm25 = None\n",
    "    elif method == 'bm25':\n",
    "        index = data\n",
    "        get_index = lambda: index\n",
    "        bm25 = BM25Okapi([doc for doc in data])\n",
    "    else:\n",
    "        raise ValueError(\"Method must be 'dense' or 'bm25'.\")\n",
    "\n",
    "    ideal_relevance_scores = []\n",
    "    relevance_scores = []\n",
    "\n",
    "    for i in [labels.index(x) for x in list(set(labels))]:\n",
    "        irs, rs = get_relevance_scores(i, labels, data, get_index(), method=method, bm25=bm25)\n",
    "        ideal_relevance_scores.append(irs)\n",
    "        relevance_scores.append(rs)\n",
    "\n",
    "    return ndcg_score(np.array(ideal_relevance_scores), np.array(relevance_scores))\n"
   ]
  },
  {
   "cell_type": "code",
   "execution_count": 16,
   "id": "cb3df4de-487e-40f8-85a0-4c5ace64545f",
   "metadata": {},
   "outputs": [
    {
     "name": "stdout",
     "output_type": "stream",
     "text": [
      "CPU times: total: 8.75 s\n",
      "Wall time: 8.62 s\n"
     ]
    },
    {
     "data": {
      "text/plain": [
       "np.float64(0.5915919671919618)"
      ]
     },
     "execution_count": 16,
     "metadata": {},
     "output_type": "execute_result"
    }
   ],
   "source": [
    "%%time\n",
    "ndcg_dense = calculate_mean_ndcg_score(labels, data=texts, embeddings=embeddings, method='dense')\n",
    "ndcg_dense"
   ]
  },
  {
   "cell_type": "code",
   "execution_count": 17,
   "id": "99466f99-c8e0-4a63-b55d-b3b7d3e69117",
   "metadata": {},
   "outputs": [
    {
     "name": "stderr",
     "output_type": "stream",
     "text": [
      "\n",
      "KeyboardInterrupt\n",
      "\n"
     ]
    }
   ],
   "source": [
    "%%time\n",
    "ndcg_bm25 = calculate_mean_ndcg_score(labels, data=[preprocess_text(text) for text in texts], method='bm25')\n",
    "ndcg_bm25"
   ]
  },
  {
   "cell_type": "markdown",
   "id": "ece5afc6-00e5-4858-992c-cbb6ca87320e",
   "metadata": {},
   "source": [
    "# 2. Zero-shot Ollama + DSPy"
   ]
  },
  {
   "cell_type": "code",
   "execution_count": 160,
   "id": "05ab2b93-753c-4864-abd2-2509e62eef50",
   "metadata": {},
   "outputs": [],
   "source": [
    "text = anonymize_with_ner(dataset['unpacked_summary'][:5], ner_pipeline(dataset['unpacked_summary'][:5], batch_size=1))[3]"
   ]
  },
  {
   "cell_type": "code",
   "execution_count": 161,
   "id": "fd09e8c3-a8de-4372-8487-c07d007e292c",
   "metadata": {},
   "outputs": [],
   "source": [
    "from ollama import chat\n",
    "from pydantic import BaseModel, Field\n",
    "from typing import Literal, Optional, List\n",
    "\n",
    "class MajorCharacter(BaseModel):\n",
    "    name: str\n",
    "    role: Optional[str] = Field(None, description=\"The role of the character, None if not derivable.\")\n",
    "    age: Optional[int] = Field(None, description=\"The age of the character, None if not derivable.\")\n",
    "    backstory: Optional[str] = Field(None, description=\"The backstory of the character, None if not derivable.\")\n",
    "    beliefs: Optional[list[str]]\n",
    "    weaknesses: Optional[list[str]]\n",
    "    strengths: Optional[list[str]]\n",
    "    motivations: Optional[list[str]]\n",
    "    \n",
    "    #character_arc: Optional[str] = Field(None, description=\"Describes how the character changes over the story\")\n",
    "    #relationship: Optional[str]\n",
    "    #actantial_role: Literal['Subject', 'Object', 'Helper', 'Opponent', 'Sender', 'Receiver'] = None\n",
    "\n",
    "class Setting(BaseModel):\n",
    "    time_periods: list[str]\n",
    "    locations: list[str] \n",
    "    cultural_context: list[str]\n",
    "\n",
    "class Plot(BaseModel):\n",
    "\n",
    "    #timeline_of_events: list[str] = Field(description = (\n",
    "    #    \"a sequenced list of very brief event descriptions\"\n",
    "    #))SS\n",
    "    \n",
    "    conflict: Optional[Literal[\"person vs. person\", \"person vs. self\", \"person vs. nature\", \"person vs.society\", \"person vs. fate\", \"person vs. supernatural\", \"person vs. technology\"]]\n",
    "    basic_plot: Optional[Literal[\"Overcoming the Monster\", \"Rags to Riches\", \"The Quest\", \"Voyage and Return\", \"Comedy\", \"Tragedy\", \"Rebirth\"]] = Field(None, description=\"Select one of the following basic plot types:\"\n",
    "    \"- Overcoming the Monster: The protagonist sets out to defeat an antagonistic force (often evil) which threatens the protagonist and/or protagonist's homeland\"\n",
    "    \"- Rags to Riches: The poor protagonist acquires things such as power, wealth, and a mate, before losing it all and gaining it back upon growing as a person.\"  \n",
    "    \"- The Quest: The protagonist and some companions set out to acquire an important object or to get to a location, facing many obstacles and temptations along the way.\"\n",
    "    \"- Voyage and Return: The protagonist goes to a strange land and, after overcoming the threats it poses to him or her, returns with nothing but experience.\"  \n",
    "    \"- Comedy: Light and humorous character with a happy or cheerful ending; a dramatic work in which the central motif is the triumph over adverse circumstance, resulting in a successful or happy conclusion.Booker makes sure to stress that comedy is more than humor. It refers to a pattern where the conflict becomes more and more confusing, but is at last made plain in a single clarifying event. Most romances fall into this category.\"                                                                                                                                                    \n",
    "    \"- Tragedy: The protagonist is a hero with one major character flaw or great mistake which is ultimately their undoing. Their unfortunate end evokes pity at their folly and the fall of a fundamentally 'good' character.\"\n",
    "    \"- Rebirth: During the course of the story, an important event forces the main character to change their ways, often making them a better person. \"                                                                                                                                                   \n",
    "                                                                                                                                                       )\n",
    "    story_exposition: Optional[str]\n",
    "    story_rising_action: Optional[str]\n",
    "    story_climax: Optional[str]\n",
    "    story_falling_action: Optional[str]\n",
    "    story_resolution: Optional[str]\n",
    "    \n",
    "class Theme(BaseModel):\n",
    "    main_themes: Optional[list[str]]\n",
    "    secondary_themes: Optional[list[str]]\n",
    "    morals: Optional[list[str]]\n",
    "    \n",
    "class Other(BaseModel):\n",
    "    main_genres: Optional[list[str]]\n",
    "    sub_genres: Optional[list[str]]\n",
    "    content_warnings: Optional[list[str]]\n",
    "    #writing_style: Optional[str]\n",
    "    #point_of_view: Optional[Literal['First-person narrator', 'Third-person limited narrator', 'Third-person omniscient narrator']]\n",
    "    \n",
    "class Elements(BaseModel):\n",
    "    major_characters: list[MajorCharacter]\n",
    "    setting: Setting\n",
    "    plot: Plot\n",
    "    theme: Theme\n",
    "    other: Other\n",
    "    \n"
   ]
  },
  {
   "cell_type": "code",
   "execution_count": 162,
   "id": "e27c10c6-1fdf-47b7-a48e-0ccf38b0746d",
   "metadata": {},
   "outputs": [],
   "source": [
    "#36.5"
   ]
  },
  {
   "cell_type": "code",
   "execution_count": 163,
   "id": "9b1812d5-9d64-47d3-becf-62f1755ea979",
   "metadata": {},
   "outputs": [
    {
     "name": "stdout",
     "output_type": "stream",
     "text": [
      "major_characters=[MajorCharacter(name='name1', role=None, age=None, backstory=None, beliefs=['Prison', 'California hometown', 'Incurable cancer'], weaknesses=['Fear of violence', 'Loneliness'], strengths=['Resilience', 'Compassion'], motivations=['Seeking redemption', 'Protecting his family'])] setting=Setting(time_periods=['Seventeen years in prison', 'California hometown'], locations=['Prison', \"Mother's home\", 'Hospital'], cultural_context=['California']) plot=Plot(conflict='person vs. person', basic_plot=None, story_exposition='Introduction of main character, setting, and initial conflict.', story_rising_action='Introduction of secondary characters and escalating conflict.', story_climax='The confrontation between the main character and the nurse, and the consequences of his actions.', story_falling_action='Resolution of the conflict and the aftermath of the events.', story_resolution=\"The main character's journey towards redemption or acceptance.\") theme=Theme(main_themes=['Redemption', 'Family', 'Hospitality', 'Injustice'], secondary_themes=['Loneliness', 'Survival'], morals=['Sometimes, the greatest acts of kindness are hidden beneath a facade of pain.', 'Family can be a source of both strength and weakness.']) other=Other(main_genres=['Drama', 'Mystery'], sub_genres=['Psychological Thriller'], content_warnings=['Violence', 'Emotional distress'])\n",
      "CPU times: total: 0 ns\n",
      "Wall time: 5.65 s\n"
     ]
    }
   ],
   "source": [
    "%%time\n",
    "response1 = chat(\n",
    "    messages=[\n",
    "    {\"role\": \"system\", \"content\": f\"Return as a JSON object. If features are not derivable, use None for that feature.\"},\n",
    "    {\"role\": \"user\", \"content\": text}\n",
    "    ],\n",
    "    model='gemma3:1b-it-qat',\n",
    "    format=Elements.model_json_schema(),\n",
    "    #stream = True,\n",
    "    options = {'temperature':0}\n",
    ")\n",
    "\n",
    "elements = Elements.model_validate_json(response1.message.content)\n",
    "print(elements)"
   ]
  },
  {
   "cell_type": "code",
   "execution_count": 130,
   "id": "051e627a-9341-413c-afb6-6feef27c7ec7",
   "metadata": {},
   "outputs": [
    {
     "name": "stdout",
     "output_type": "stream",
     "text": [
      "major_characters=[MajorCharacter(name='name1', role=None, age=None, backstory=None, beliefs=['Irish orphan', 'bad at school', 'assertive'], weaknesses=['prone to violence', 'self-destructive'], strengths=['street smarts', 'leadership', 'resourceful'], motivations=['wealth', 'power', 'revenge']), MajorCharacter(name='name2', role=None, age=None, backstory=None, beliefs=['mob boss'], weaknesses=['ruthless'], strengths=['control', 'influence'], motivations=['power', 'profit']), MajorCharacter(name='name3', role=None, age=None, backstory=None, beliefs=['beautiful'], weaknesses=['naive'], strengths=['kindness', 'beauty'], motivations=['love', 'happiness']), MajorCharacter(name='name4', role=None, age=None, backstory=None, beliefs=['journalist'], weaknesses=['determined'], strengths=['investigative skills', 'persistence'], motivations=['truth', 'justice']), MajorCharacter(name='name5', role=None, age=None, backstory=None, beliefs=['ruthless', 'good-natured'], weaknesses=['violence', 'impulsiveness'], strengths=['intelligence', 'leadership', 'resourceful'], motivations=['wealth', 'power', 'revenge']), MajorCharacter(name='name7', role=None, age=None, backstory=None, beliefs=['good friend'], weaknesses=['moral compass'], strengths=['loyalty', 'integrity'], motivations=['justice', 'honesty']), MajorCharacter(name='name8', role=None, age=None, backstory=None, beliefs=['Hood'], weaknesses=['none'], strengths=['street smarts', 'leadership', 'resourceful'], motivations=['wealth', 'power', 'revenge']), MajorCharacter(name='name9wood', role=None, age=None, backstory=None, beliefs=['neighborhood'], weaknesses=['none'], strengths=['street smarts', 'leadership', 'resourceful'], motivations=['wealth', 'power', 'revenge']), MajorCharacter(name='name6', role=None, age=None, backstory=None, beliefs=['law enforcement'], weaknesses=['none'], strengths=['justice', 'law enforcement'], motivations=['justice', 'law enforcement']), MajorCharacter(name='Birns', role=None, age=None, backstory=None, beliefs=['money courier'], weaknesses=['greed'], strengths=['resourceful'], motivations=['wealth']), MajorCharacter(name='Greene', role=None, age=None, backstory=None, beliefs=['none'], weaknesses=['none'], strengths=['none'], motivations=['none'])] setting=Setting(time_periods=['present'], locations=['Cleveland', 'New York'], cultural_context=['organized crime', 'Irish-American community']) plot=Plot(conflict='person vs. self', basic_plot=None, story_exposition='name1 grows up in Cleveland under mob rule.', story_rising_action=\"name1 rises through the ranks, marries name3, and becomes known as the 'Hood of name9wood'.\", story_climax='name5 is betrayed and forced to flee, leading to a final confrontation.', story_falling_action=\"name5's empire crumbles, and he is ultimately killed.\", story_resolution=\"name5's death marks the end of his reign of terror.\") theme=Theme(main_themes=['corruption', 'violence', 'betrayal', 'redemption'], secondary_themes=['family', 'loyalty', 'justice'], morals=['the consequences of violence', 'the corrupting influence of power']) other=Other(main_genres=['crime', 'thriller', 'gangster'], sub_genres=['noir', 'heist'], content_warnings=['violence', 'crime'])\n",
      "CPU times: total: 46.9 ms\n",
      "Wall time: 2min 33s\n"
     ]
    }
   ],
   "source": [
    "%%time\n",
    "response2 = chat(\n",
    "    messages=[\n",
    "    {\"role\": \"system\", \"content\": f\"Return as a JSON object\"},\n",
    "    {\"role\": \"user\", \"content\": text}\n",
    "    ],\n",
    "    model='gemma3:4b-it-qat',\n",
    "    format=Elements.model_json_schema(),\n",
    "    options = {'temperature':0}\n",
    ")\n",
    "\n",
    "elements2 = Elements.model_validate_json(response2.message.content)\n",
    "print(elements2)"
   ]
  },
  {
   "cell_type": "code",
   "execution_count": 131,
   "id": "2eac6aa8-d601-4bd6-9a43-b0e083167efc",
   "metadata": {},
   "outputs": [],
   "source": [
    "def create_category_string(category, dictionary):\n",
    "    string = f\"{category}: \"\n",
    "    \n",
    "    if category in dictionary:\n",
    "        category_data = dictionary[category]\n",
    "        if isinstance(category_data, list):\n",
    "            for item in category_data:\n",
    "                for k, v in item.items():\n",
    "                    if isinstance(v, list):\n",
    "                        v = ', '.join(v)\n",
    "                    string += f\"{k}: {v} \"\n",
    "        elif isinstance(category_data, dict):\n",
    "            for k, v in category_data.items():\n",
    "                if isinstance(v, list):\n",
    "                    v = ', '.join(v)\n",
    "                string += f\"{k}: {v} \"\n",
    "        else:\n",
    "            string += f\"{category}: {category_data} \"\n",
    "    \n",
    "    return string\n",
    "\n",
    "\n",
    "def transform_dict_to_string(data):\n",
    "    full_string = \"\"\n",
    "\n",
    "    for category in data:\n",
    "        full_string += create_category_string(category, data)\n",
    "        full_string += \" \"\n",
    "    \n",
    "    return full_string.strip()\n",
    "\n",
    "\n"
   ]
  },
  {
   "cell_type": "code",
   "execution_count": 164,
   "id": "26d78ac2-334a-4bcb-9f48-47f30fba6d1b",
   "metadata": {},
   "outputs": [],
   "source": [
    "str1 = transform_dict_to_string(json.loads(response1.message.content))\n",
    "str2 = transform_dict_to_string(json.loads(response2.message.content))\n",
    "\n",
    "emb1 = embedder(str1)\n",
    "emb2 = embedder(str2)"
   ]
  },
  {
   "cell_type": "code",
   "execution_count": 165,
   "id": "e447ae97-6997-4d5b-aa55-0e3e07c72e5e",
   "metadata": {},
   "outputs": [
    {
     "data": {
      "text/plain": [
       "array([[0.6023717]], dtype=float32)"
      ]
     },
     "execution_count": 165,
     "metadata": {},
     "output_type": "execute_result"
    }
   ],
   "source": [
    "cosine_similarity(emb1.reshape(1, -1), emb2.reshape(1, -1))"
   ]
  },
  {
   "cell_type": "code",
   "execution_count": 149,
   "id": "fd22e93c-ebd3-4537-b1c1-71d655d69244",
   "metadata": {},
   "outputs": [
    {
     "data": {
      "text/plain": [
       "\"name1 grows up as an Irish orphan in Cleveland, which is ruled by mob boss name2. Although he is bad at school, he knows how to assert himself. Again and again, his friends come to his aid. So he's working with them early in the docks. And after securing the post of union president by not entirely legal means, he marries the beautiful name3. Life seems to be getting better all the time, because not only is the family growing, but his reputation is rising, and business with the Mafia is getting better all the time. Unfortunately, journalist name4 collects enough evidence against name5 to go to name6 and have him arrested. But before name5 goes to prison, he makes a deal with the FBI to report on the business of organized crime at least once a month.\\nAnd even though name5's back in business as a loan shark's debt collector, he doesn't have much to report to the FBI. However, he and his wife have to move to an inferior neighborhood, adding to the strain on their marriage. And while the marriage ultimately breaks up, name5 is given the opportunity to gain a foothold in the garbage business if he manages to beat all the free garbage men either into the union or out of the business. The only time it becomes problematic for him is when his good friend name7 confronts him and refuses to work for the union. name5 wants to leave name7 alone, but under pressure from the mob, he changes his mind and puts a bomb in name7's house, so he freaks out, goes after him and shoots him multiple times. name5, however, fires back, killing him with the first bullet to the head. He was charged but later acquitted on grounds of self-defense.\\nHowever, name5 is not only known for his brutal intransigence, but also for his good-naturedness, which is why he is also known by the general population as the name8 Hood of name9wood. And since name5 can't work as a thug forever, he wants to open his own restaurant, The Dublin Public House. So he borrows $70,000 from the Gambinos with Birns' help. But unfortunately, the money never reaches name5 because the money courier wanted to buy six kilos of cocaine. And since name5 never received the money, he also refuses to pay it back, which is why he continues to demand the $70,000 from Birns. But he doesn't see the problem in himself, he sees the problem in name5, so when name5 refuses to pay, he hires a hit man and puts a car bomb in name5's car. But name5 evades the attempt, gets back at Birns in the same way, and kills him in the process.\\nBut despite all the problems, name5 manages to build his restaurant, and when it's really going well, the Mafia is already at the door, demanding 30% of all revenues from him as protection money. But when he refuses, the mob tries to kill him several times, throwing a bomb at his house and using a sniper on him while he jogs. But as he survives both attacks, he teams up with his old friend John Nardi and together they gradually eliminate more and more members of the Mafia, so that even the big families in New York doubt the competence of their relatives in Cleveland and send support. And name5 has almost no life left, because he lives in constant fear of being killed in an attack, so he offers the Mafia a deal. For $2 million, he's willing to leave Cleveland for good. But the mob hires another hit man, who keeps a close eye on him and gradually kills all of his friends before he ambushes name5. After a visit to the dentist, name5 returns to his car. In the next car, a remote detonator detonates a bomb that kills Greene.\""
      ]
     },
     "execution_count": 149,
     "metadata": {},
     "output_type": "execute_result"
    }
   ],
   "source": [
    "text"
   ]
  },
  {
   "cell_type": "code",
   "execution_count": 166,
   "id": "9111cd48-990f-492c-9c21-16185622ca72",
   "metadata": {},
   "outputs": [
    {
     "data": {
      "text/plain": [
       "\"name1 (name2) returns to his small California hometown after seventeen years in prison. When he arrives at his mother name3's (name4) home, he discovers a man in the house and beats him up, thinking it was a break-in. But he turns out to be name3's nurse, who has incurable cancer. Meanwhile, young name5 (name6) steals drugs from the hospital where she works to sell to drug addicts. name7 needs her to buy a wheelchair. The meeting goes badly, with name7's return not being welcomed by the name8 family.\""
      ]
     },
     "execution_count": 166,
     "metadata": {},
     "output_type": "execute_result"
    }
   ],
   "source": [
    "text"
   ]
  }
 ],
 "metadata": {
  "kernelspec": {
   "display_name": "Python 3 (ipykernel)",
   "language": "python",
   "name": "python3"
  },
  "language_info": {
   "codemirror_mode": {
    "name": "ipython",
    "version": 3
   },
   "file_extension": ".py",
   "mimetype": "text/x-python",
   "name": "python",
   "nbconvert_exporter": "python",
   "pygments_lexer": "ipython3",
   "version": "3.11.11"
  }
 },
 "nbformat": 4,
 "nbformat_minor": 5
}
