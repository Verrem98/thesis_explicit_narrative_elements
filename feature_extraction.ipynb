{
 "cells": [
  {
   "cell_type": "code",
   "execution_count": 5,
   "id": "bff23553-84c7-4044-9f32-a5491408afe2",
   "metadata": {
    "ExecuteTime": {
     "end_time": "2025-05-13T09:32:23.033755600Z",
     "start_time": "2025-05-13T09:32:23.029755Z"
    }
   },
   "outputs": [
    {
     "name": "stderr",
     "output_type": "stream",
     "text": [
      "[nltk_data] Downloading package punkt to\n",
      "[nltk_data]     C:\\Users\\emiel\\AppData\\Roaming\\nltk_data...\n",
      "[nltk_data]   Package punkt is already up-to-date!\n",
      "[nltk_data] Downloading package stopwords to\n",
      "[nltk_data]     C:\\Users\\emiel\\AppData\\Roaming\\nltk_data...\n",
      "[nltk_data]   Package stopwords is already up-to-date!\n"
     ]
    }
   ],
   "source": [
    "import spacy\n",
    "import torch\n",
    "from transformers import AutoTokenizer, AutoModelForCausalLM\n",
    "from sentence_transformers import SentenceTransformer\n",
    "import pandas as pd\n",
    "from sklearn.metrics.pairwise import cosine_similarity\n",
    "from sklearn.metrics import ndcg_score\n",
    "import numpy as np\n",
    "import random\n",
    "from sklearn.preprocessing import normalize\n",
    "random.seed(42)\n",
    "import spacy\n",
    "import re\n",
    "from nltk.tokenize import word_tokenize\n",
    "from nltk.corpus import stopwords\n",
    "import nltk\n",
    "import dspy\n",
    "from nltk.stem import PorterStemmer\n",
    "nltk.download('punkt')\n",
    "from datasets import Dataset\n",
    "nltk.download('stopwords')\n",
    "from transformers import pipeline\n",
    "import ast\n",
    "import json\n"
   ]
  },
  {
   "cell_type": "code",
   "execution_count": 2,
   "id": "cc40b892-f5a0-409f-8491-bba51ea8cff1",
   "metadata": {},
   "outputs": [],
   "source": [
    "def create_category_string(category, dictionary):\n",
    "    string = f\"{category}: \"\n",
    "    \n",
    "    if category in dictionary:\n",
    "        category_data = dictionary[category]\n",
    "        if isinstance(category_data, list):\n",
    "            for item in category_data:\n",
    "                for k, v in item.items():\n",
    "                    if k == 'name':  \n",
    "                        continue\n",
    "                    if isinstance(v, list):\n",
    "                        v = ', '.join(v)\n",
    "                    string += f\"{k}: {v} \"\n",
    "        elif isinstance(category_data, dict):\n",
    "            for k, v in category_data.items():\n",
    "                if k == 'name': \n",
    "                    continue\n",
    "                if isinstance(v, list):\n",
    "                    v = ', '.join(v)\n",
    "                string += f\"{k}: {v} \"\n",
    "        else:\n",
    "            string += f\"{category}: {category_data} \"\n",
    "    \n",
    "    return string\n",
    "\n",
    "\n",
    "\n",
    "def transform_dict_to_string(data):\n",
    "    full_string = \"\"\n",
    "\n",
    "    for category in data:\n",
    "        full_string += create_category_string(category, data)\n",
    "        full_string += \" \"\n",
    "    \n",
    "    return full_string.strip()\n",
    "\n",
    "\n"
   ]
  },
  {
   "cell_type": "code",
   "execution_count": 3,
   "id": "539d7d55-ad74-4bd5-a938-44d446049369",
   "metadata": {},
   "outputs": [],
   "source": [
    "from transformers import pipeline\n",
    "from collections import defaultdict\n",
    "import re\n",
    "\n",
    "class CharacterAnonymizer:\n",
    "    def __init__(self):\n",
    "        self.ner_pipeline = pipeline(\"ner\", model=\"Jean-Baptiste/roberta-large-ner-english\", aggregation_strategy=\"simple\")\n",
    "        self.name_map = {}\n",
    "        self.clusters = {}\n",
    "\n",
    "    def normalize_name(self, name):\n",
    "        \"\"\"Normalize name: lowercase, remove punctuation.\"\"\"\n",
    "        name = name.lower()\n",
    "        name = re.sub(r\"[^a-z ]\", \"\", name) \n",
    "        return name.strip()\n",
    "\n",
    "    def extract_names(self, text):\n",
    "        \"\"\"Run NER and extract PERSON names.\"\"\"\n",
    "        ner_results = self.ner_pipeline(text)\n",
    "        names = [ent['word'] for ent in ner_results if ent['entity_group'] == 'PER']\n",
    "        return list(set(self.normalize_name(name) for name in names))\n",
    "        \n",
    "    def cluster_names(self, names):\n",
    "        \"\"\"Cluster similar names by shared first tokens.\"\"\"\n",
    "        clusters = defaultdict(list)\n",
    "        used = set()\n",
    "    \n",
    "        for name in names:\n",
    "            if not name.strip():  \n",
    "                continue\n",
    "            if name in used:\n",
    "                continue\n",
    "            parts = name.split()\n",
    "            if not parts:\n",
    "                continue\n",
    "            key = parts[0]\n",
    "            for other in names:\n",
    "                if key in other and other not in used:\n",
    "                    clusters[key].append(other)\n",
    "                    used.add(other)\n",
    "        return clusters\n",
    "\n",
    "    def generate_name_map(self, clusters):\n",
    "        \"\"\"Create CharacterN mapping for each name variant.\"\"\"\n",
    "        name_map = {}\n",
    "        for i, (key, variants) in enumerate(clusters.items(), start=1):\n",
    "            tag = f\"Character{i}\"\n",
    "            for name in variants:\n",
    "                name_map[name] = tag\n",
    "        return name_map\n",
    "\n",
    "    def replace_names(self, text, name_map):\n",
    "        \"\"\"Replace all name variants in the original text with CharacterN.\"\"\"\n",
    "        for original in sorted(name_map.keys(), key=len, reverse=True):\n",
    "            pattern = re.compile(rf'\\b{re.escape(original)}\\b', re.IGNORECASE)\n",
    "            text = pattern.sub(name_map[original], text)\n",
    "        return text\n",
    "\n",
    "    def anonymize(self, text):\n",
    "        names = self.extract_names(text)\n",
    "        self.clusters = self.cluster_names(names)\n",
    "        self.name_map = self.generate_name_map(self.clusters)\n",
    "        return self.replace_names(text, self.name_map)"
   ]
  },
  {
   "cell_type": "code",
   "execution_count": 4,
   "id": "c9738a63-f38c-4e95-9ea0-92d1b3b0285b",
   "metadata": {},
   "outputs": [],
   "source": [
    "def preprocess_text(text):\n",
    "    \"\"\"Not used for transformers\"\"\"\n",
    "    \n",
    "    text = text.lower()\n",
    "    \n",
    "    text = re.sub(r'[^\\w\\s]', '', text)\n",
    "    \n",
    "    tokens = word_tokenize(text)\n",
    "    \n",
    "    stop_words = set(stopwords.words('english'))\n",
    "    \n",
    "    tokens = [token for token in tokens if token not in stop_words]\n",
    "    \n",
    "    ps = PorterStemmer()\n",
    "    \n",
    "    tokens = [ps.stem(token) for token in tokens]\n",
    "    \n",
    "    return tokens"
   ]
  },
  {
   "cell_type": "code",
   "execution_count": 5,
   "id": "3dddc1fe-caa1-4528-b2e4-45776e618783",
   "metadata": {},
   "outputs": [],
   "source": [
    "tell_me_again_df = pd.read_csv(\"data/tell_me_again.csv\")\n",
    "tell_me_again_df['label'] = tell_me_again_df.groupby('title').ngroup()\n"
   ]
  },
  {
   "cell_type": "code",
   "execution_count": 6,
   "id": "e93015b2-5819-44dd-b7e3-a18b46772516",
   "metadata": {},
   "outputs": [],
   "source": [
    "tell_me_again_df = tell_me_again_df[tell_me_again_df['unpacked_summary'].str.len() >= tell_me_again_df['unpacked_summary'].str.len().describe()[\"75%\"]]"
   ]
  },
  {
   "cell_type": "code",
   "execution_count": 7,
   "id": "7d781a05-0586-4351-8f63-51ead7f4422d",
   "metadata": {},
   "outputs": [],
   "source": [
    "tell_me_again_df['property_count'] = tell_me_again_df['label'].map(tell_me_again_df['label'].value_counts())"
   ]
  },
  {
   "cell_type": "code",
   "execution_count": 8,
   "id": "5bf49966-7711-48fc-9bf8-10df3c71b0b0",
   "metadata": {},
   "outputs": [],
   "source": [
    "tell_me_again_df = tell_me_again_df[tell_me_again_df.property_count >= 3]"
   ]
  },
  {
   "cell_type": "code",
   "execution_count": 9,
   "id": "b6755556-fd27-4479-a1fa-80b9b4257aba",
   "metadata": {},
   "outputs": [
    {
     "data": {
      "text/plain": [
       "(8019, 8)"
      ]
     },
     "execution_count": 9,
     "metadata": {},
     "output_type": "execute_result"
    }
   ],
   "source": [
    "tell_me_again_df.shape"
   ]
  },
  {
   "cell_type": "code",
   "execution_count": 10,
   "id": "3e943735-399a-47d7-9b7d-8acda00d955a",
   "metadata": {},
   "outputs": [],
   "source": [
    "summary_indices = random.sample(list(set(tell_me_again_df.label)),1000)\n",
    "tell_me_again_df = tell_me_again_df[tell_me_again_df.label.isin(summary_indices)]"
   ]
  },
  {
   "cell_type": "code",
   "execution_count": 11,
   "id": "ebbeb313-49d3-4047-97fa-5eb3d4181f67",
   "metadata": {},
   "outputs": [
    {
     "name": "stderr",
     "output_type": "stream",
     "text": [
      "Device set to use cuda:0\n",
      "C:\\Users\\emiel\\.conda\\envs\\nar_el\\lib\\site-packages\\transformers\\pipelines\\token_classification.py:170: UserWarning: `grouped_entities` is deprecated and will be removed in version v5.0.0, defaulted to `aggregation_strategy=\"simple\"` instead.\n",
      "  warnings.warn(\n"
     ]
    }
   ],
   "source": [
    "ner_pipeline = pipeline(\"ner\", model = \"Jean-Baptiste/roberta-large-ner-english\",grouped_entities=True)\n",
    "\n",
    "dataset = Dataset.from_pandas(tell_me_again_df[['unpacked_summary']])"
   ]
  },
  {
   "cell_type": "code",
   "execution_count": 10,
   "id": "82ef89e8-4ddc-4376-9916-68d848ed2193",
   "metadata": {},
   "outputs": [
    {
     "data": {
      "text/plain": [
       "'Leia, a 21-year-old woman, is found by the police after seventeen years of captivity in a cellar. His kidnapper, Benjamin, is immediately thrown into prison. Leia finds her parents, her home, but she has no memory of them or where she lived. Despite the attention of her relatives and the psychological help given to her, Leia is unable to regain her marks. She secretly cuts out all the press clippings about Ben, who has been her only companion for so many years. Paradoxically, she still has feelings for him and fails to bond with her parents.'"
      ]
     },
     "execution_count": 10,
     "metadata": {},
     "output_type": "execute_result"
    }
   ],
   "source": [
    "tell_me_again_df.unpacked_summary.iloc[1231]"
   ]
  },
  {
   "cell_type": "code",
   "execution_count": 11,
   "id": "05ef60c7-3ee7-4a4a-8e2d-d30b0558b1cd",
   "metadata": {},
   "outputs": [],
   "source": [
    "labels = tell_me_again_df.label.tolist()\n",
    "texts = tell_me_again_df.unpacked_summary.tolist()"
   ]
  },
  {
   "cell_type": "code",
   "execution_count": 12,
   "id": "e6468d44-4e2e-4f28-9a14-24664499210e",
   "metadata": {},
   "outputs": [],
   "source": [
    "device = torch.device(\"cuda\" if torch.cuda.is_available() else \"cpu\")"
   ]
  },
  {
   "cell_type": "code",
   "execution_count": 13,
   "id": "3aa49a79-675c-48e7-b242-f84e59c0d79c",
   "metadata": {},
   "outputs": [
    {
     "data": {
      "text/plain": [
       "device(type='cuda')"
      ]
     },
     "execution_count": 13,
     "metadata": {},
     "output_type": "execute_result"
    }
   ],
   "source": [
    "device"
   ]
  },
  {
   "cell_type": "code",
   "execution_count": 14,
   "id": "05ff60af-c78a-42e9-a031-9e7094fd9941",
   "metadata": {},
   "outputs": [],
   "source": [
    "model = SentenceTransformer(\"sentence-transformers/all-mpnet-base-v2\", device=device)\n",
    "embedder = dspy.Embedder(model.encode)"
   ]
  },
  {
   "cell_type": "code",
   "execution_count": 15,
   "id": "4ffe6768-c44c-4db6-954e-14699c49ff8f",
   "metadata": {},
   "outputs": [],
   "source": [
    "embeddings = embedder(texts)"
   ]
  },
  {
   "cell_type": "code",
   "execution_count": 16,
   "id": "ff5cddba-5bd7-43b7-833d-643c4a460312",
   "metadata": {},
   "outputs": [],
   "source": [
    "from sklearn.feature_extraction.text import TfidfVectorizer\n",
    "from rank_bm25 import BM25Okapi\n",
    "\n",
    "def build_index(embeddings, normalize_vectors=True):\n",
    "    if normalize_vectors:\n",
    "        return normalize(embeddings, axis=1)\n",
    "    return embeddings\n",
    "\n",
    "def get_dense_similarity(query_vector, candidate_vectors):\n",
    "    return np.dot(candidate_vectors, query_vector.T).flatten()\n",
    "\n",
    "def get_bm25_scores(corpus, query, bm25=None):\n",
    "    if bm25 is None:\n",
    "        bm25 = BM25Okapi([doc for doc in corpus])\n",
    "    return bm25.get_scores(query)\n",
    "\n",
    "def get_relevance_scores(i, labels, data, index, k=None, method='dense', bm25=None):\n",
    "    if k is None:\n",
    "        k = len(labels)\n",
    "\n",
    "    query_label = labels[i]\n",
    "    matching_labels = np.where(np.array(labels) == query_label)[0]\n",
    "\n",
    "    if method == 'dense':\n",
    "        query_vector = index[i].reshape(1, -1)\n",
    "        similarities = get_dense_similarity(query_vector, index)\n",
    "    elif method == 'bm25':\n",
    "        query_text = data[i]\n",
    "        similarities = get_bm25_scores(data, query_text, bm25)\n",
    "    else:\n",
    "        raise ValueError(\"Unsupported method. Use 'dense' or 'bm25'.\")\n",
    "\n",
    "    top_k_indices = np.argsort(similarities)[::-1]\n",
    "    top_k_indices = top_k_indices[top_k_indices != i][:k]\n",
    "\n",
    "    relevance_scores = [1 if x in matching_labels else 0 for x in top_k_indices]\n",
    "    ideal_relevance_scores = sorted(relevance_scores, reverse=True)\n",
    "\n",
    "    return ideal_relevance_scores, relevance_scores\n",
    "\n",
    "def calculate_mean_ndcg_score(labels, data, embeddings=None, method='dense'):\n",
    "    if method == 'dense':\n",
    "        embeddings = np.array(embeddings).astype('float32')\n",
    "        index = build_index(embeddings)\n",
    "        get_index = lambda: index\n",
    "        bm25 = None\n",
    "    elif method == 'bm25':\n",
    "        index = data\n",
    "        get_index = lambda: index\n",
    "        bm25 = BM25Okapi([doc for doc in data])\n",
    "    else:\n",
    "        raise ValueError(\"Method must be 'dense' or 'bm25'.\")\n",
    "\n",
    "    ideal_relevance_scores = []\n",
    "    relevance_scores = []\n",
    "\n",
    "    for i in [labels.index(x) for x in list(set(labels))]:\n",
    "        irs, rs = get_relevance_scores(i, labels, data, get_index(), method=method, bm25=bm25)\n",
    "        ideal_relevance_scores.append(irs)\n",
    "        relevance_scores.append(rs)\n",
    "\n",
    "    return ndcg_score(np.array(ideal_relevance_scores), np.array(relevance_scores))\n"
   ]
  },
  {
   "cell_type": "code",
   "execution_count": 16,
   "id": "cb3df4de-487e-40f8-85a0-4c5ace64545f",
   "metadata": {},
   "outputs": [
    {
     "name": "stdout",
     "output_type": "stream",
     "text": [
      "CPU times: total: 8.75 s\n",
      "Wall time: 8.62 s\n"
     ]
    },
    {
     "data": {
      "text/plain": [
       "np.float64(0.5915919671919618)"
      ]
     },
     "execution_count": 16,
     "metadata": {},
     "output_type": "execute_result"
    }
   ],
   "source": [
    "%%time\n",
    "ndcg_dense = calculate_mean_ndcg_score(labels, data=texts, embeddings=embeddings, method='dense')\n",
    "ndcg_dense"
   ]
  },
  {
   "cell_type": "code",
   "execution_count": 17,
   "id": "99466f99-c8e0-4a63-b55d-b3b7d3e69117",
   "metadata": {},
   "outputs": [
    {
     "name": "stderr",
     "output_type": "stream",
     "text": [
      "\n",
      "KeyboardInterrupt\n",
      "\n"
     ]
    }
   ],
   "source": [
    "%%time\n",
    "ndcg_bm25 = calculate_mean_ndcg_score(labels, data=[preprocess_text(text) for text in texts], method='bm25')\n",
    "ndcg_bm25"
   ]
  },
  {
   "cell_type": "markdown",
   "id": "ece5afc6-00e5-4858-992c-cbb6ca87320e",
   "metadata": {},
   "source": [
    "# 2. Zero-shot Ollama + DSPy"
   ]
  },
  {
   "cell_type": "code",
   "execution_count": 12,
   "id": "05ab2b93-753c-4864-abd2-2509e62eef50",
   "metadata": {},
   "outputs": [
    {
     "name": "stderr",
     "output_type": "stream",
     "text": [
      "Device set to use cuda:0\n"
     ]
    }
   ],
   "source": [
    "anonymizer = CharacterAnonymizer()\n",
    "texts = [anonymizer.anonymize(x) for x in dataset['unpacked_summary'][:50]]"
   ]
  },
  {
   "cell_type": "code",
   "execution_count": 14,
   "id": "fd09e8c3-a8de-4372-8487-c07d007e292c",
   "metadata": {},
   "outputs": [],
   "source": [
    "from ollama import chat\n",
    "from pydantic import BaseModel, Field\n",
    "from typing import Literal, Optional, List\n",
    "\n",
    "class Character(BaseModel):\n",
    "    name: str # removed in post-processing, helps the model establish seperate identities\n",
    "    role: Optional[Literal[\"protagonist\", \"antagonist\",\"love interest\",\"confidant\", \"deuteragonist\", \"tertiary character\", \"foil\"]]\n",
    "    backstory: Optional[str]\n",
    "    weaknesses: Optional[list[str]] \n",
    "    strengths: Optional[list[str]] \n",
    "    motivations: Optional[list[str]]\n",
    "\n",
    "class Setting(BaseModel):\n",
    "    time_periods: Optional[list[str]]\n",
    "    locations: Optional[list[str]]\n",
    "    cultural_context: Optional[list[str]]\n",
    "\n",
    "class Plot(BaseModel):\n",
    "    conflict: Optional[Literal[\"person vs. person\", \"person vs. self\", \"person vs. nature\", \"person vs.society\", \"person vs. fate\", \"person vs. machine\", \"person vs. the unknown\"]]\n",
    "    basic_plot: Optional[Literal[\"overcoming the Monster\", \"rags to Riches\", \"the Quest\", \"voyage and Return\", \"comedy\", \"tragedy\", \"rebirth\"]]                                                                                                                                                                                                                                                                                \n",
    "    story_exposition_summary: Optional[str]\n",
    "    story_rising_action_summary: Optional[str]\n",
    "    story_climax_summary: Optional[str]\n",
    "    story_falling_action_summary: Optional[str]\n",
    "    story_resolution_summary: Optional[str]\n",
    "    \n",
    "class Theme(BaseModel):\n",
    "    themes: Optional[list[str]]\n",
    "    morals: Optional[list[str]]\n",
    "    \n",
    "class Other(BaseModel):\n",
    "    main_genres: Optional[list[Literal[\"action\", \"comedy\", \"drama\", \"erotic fiction\", \"horror\", \"mystery\", \"period piece\", \"romance\", \"thriller\"]]]\n",
    "    genre_keywords: Optional[list[str]]\n",
    "    \n",
    "class Elements(BaseModel):\n",
    "    setting: Setting\n",
    "    plot: Plot\n",
    "    theme: Theme\n",
    "    other: Other\n",
    "    characters: list[Character]\n",
    "\n"
   ]
  },
  {
   "cell_type": "code",
   "execution_count": 15,
   "id": "d59e0726-493f-4971-a912-dab97588c021",
   "metadata": {},
   "outputs": [],
   "source": [
    "prompt_additions = {\n",
    "    \"basic_plot\": \"\"\"- overcoming the Monster: The protagonist sets out to defeat an antagonistic force (often evil) which threatens the protagonist and/or protagonist's homeland\n",
    "- rags to Riches: The poor protagonist acquires things such as power, wealth, and a mate, before losing it all and gaining it back upon growing as a person.\n",
    "- the Quest: The protagonist and some companions set out to acquire an important object or to get to a location, facing many obstacles and temptations along the way.\n",
    "- voyage and Return: The protagonist goes to a strange land and, after overcoming the threats it poses to him or her, returns with nothing but experience.\n",
    "- comedy: Light and humorous character with a happy or cheerful ending; a dramatic work in which the central motif is the triumph over adverse circumstance, resulting in a successful or happy conclusion. Booker makes sure to stress that comedy is more than humor. It refers to a pattern where the conflict becomes more and more confusing, but is at last made plain in a single clarifying event. Most romances fall into this category.\n",
    "- tragedy: The protagonist is a hero with one major character flaw or great mistake which is ultimately their undoing. Their unfortunate end evokes pity at their folly and the fall of a fundamentally 'good' character.\n",
    "- rebirth: During the course of the story, an important event forces the main character to change their ways, often making them a better person.\"\"\",\n",
    "\n",
    "    \"role\": \"\"\"- protagonist: The main character of the story is the protagonist. They should be carefully crafted with a logical backstory, personal motivation, and a character arc over the course of the story. Often the story will be told from their point of view.\n",
    "- antagonist: The villain of the story is the antagonist.\n",
    "- confidant: This type of character is the best friend or sidekick of the protagonist. Often the protagonist's goal flows through the confidant—although not every story needs one.\n",
    "- deuteragonist: These characters often overlap with confidants. A deuteragonist is close to the main character, but the story’s main plot does not directly correspond with their own character arc.\n",
    "- tertiary character: Tertiary characters populate the world of the story but do not necessarily link to the main storyline. These minor characters serve any number of functions and may have varying degrees of personal dynamism.\n",
    "- foil: A foil character primarily exists to bring the protagonist’s qualities into sharper relief. This is because the foil is effectively the opposite of the protagonist.\"\"\",\n",
    "\n",
    "    \"conflict\": \"\"\"- person vs. person: The problem is another character\n",
    "- person vs. self: The problem lies inside the protagonist\n",
    "- person vs. nature: The problem comes from non-sapient sources\n",
    "- person vs. fate: The problem is an undesirable destiny, which may also involve divine will.\n",
    "- person vs. machine:  As in machinery. Most commonly told from the perspective of a worker being replaced by a machine\n",
    "- person vs. the unknown: Has also been proposed as the type that codifies Horror, where the enemy is the incomprehensible, otherworldly or extraterrestrial.\"\"\"\n",
    "}"
   ]
  },
  {
   "cell_type": "code",
   "execution_count": 16,
   "id": "133b14f5-7c9a-483a-a34d-4857a58266d5",
   "metadata": {},
   "outputs": [],
   "source": [
    "prompt_addition_str = \"\"\n",
    "for k,v in prompt_additions.items():\n",
    "    prompt_addition_str += f\"{k} information: {v}\\n\""
   ]
  },
  {
   "cell_type": "code",
   "execution_count": null,
   "id": "9b1812d5-9d64-47d3-becf-62f1755ea979",
   "metadata": {},
   "outputs": [],
   "source": [
    "%%time\n",
    "response = chat(\n",
    "    messages=[\n",
    "    {\"role\": \"system\", \"content\": f\"\"\"Return as a JSON object. Individual elements should return: None or [], if they are not derivable from the text. You can make use of information from\"\"\"},\n",
    "    {\"role\": \"user\", \"content\": texts[1]}\n",
    "    ],\n",
    "    model='gemma3:1b-it-qat',\n",
    "    format=Elements.model_json_schema(),\n",
    "    options = {'temperature':0}\n",
    ")\n",
    "#transform_dict_to_string(json.loads(response.message.content))\n",
    "elements = Elements.model_validate_json(response.message.content)\n",
    "print(elements)"
   ]
  },
  {
   "cell_type": "code",
   "execution_count": null,
   "id": "94508eb6-f463-40db-8196-da5dbb6090df",
   "metadata": {},
   "outputs": [],
   "source": [
    "from tqdm import tqdm \n",
    "\n",
    "extracted_elements = []\n",
    "for text in tqdm(texts[:10], desc=\"Processing texts\", unit=\"text\"):\n",
    "    response = chat(\n",
    "        messages=[\n",
    "            {\"role\": \"system\", \"content\": f\"Return as a JSON object. Individual elements should return: None or [], if they are not derivable from the text. You can make use of information from: {prompt_addition_str}\"},\n",
    "            {\"role\": \"user\", \"content\": text}\n",
    "        ],\n",
    "        model='gemma3:1b-it-qat',\n",
    "        format=Elements.model_json_schema(),\n",
    "        options = {'temperature': 0}\n",
    "    )\n",
    "\n",
    "\n",
    "    extracted_elements.append(transform_dict_to_string(json.loads(response.message.content)))"
   ]
  },
  {
   "cell_type": "code",
   "execution_count": 16,
   "id": "26d78ac2-334a-4bcb-9f48-47f30fba6d1b",
   "metadata": {},
   "outputs": [
    {
     "ename": "NameError",
     "evalue": "name 'response1' is not defined",
     "output_type": "error",
     "traceback": [
      "\u001B[1;31m---------------------------------------------------------------------------\u001B[0m",
      "\u001B[1;31mNameError\u001B[0m                                 Traceback (most recent call last)",
      "Cell \u001B[1;32mIn[16], line 1\u001B[0m\n\u001B[1;32m----> 1\u001B[0m str1 \u001B[38;5;241m=\u001B[39m transform_dict_to_string(json\u001B[38;5;241m.\u001B[39mloads(\u001B[43mresponse1\u001B[49m\u001B[38;5;241m.\u001B[39mmessage\u001B[38;5;241m.\u001B[39mcontent))\n\u001B[0;32m      2\u001B[0m str2 \u001B[38;5;241m=\u001B[39m transform_dict_to_string(json\u001B[38;5;241m.\u001B[39mloads(response2\u001B[38;5;241m.\u001B[39mmessage\u001B[38;5;241m.\u001B[39mcontent))\n\u001B[0;32m      4\u001B[0m emb1 \u001B[38;5;241m=\u001B[39m embedder(str1)\n",
      "\u001B[1;31mNameError\u001B[0m: name 'response1' is not defined"
     ]
    }
   ],
   "source": [
    "str1 = transform_dict_to_string(json.loads(response1.message.content))\n",
    "str2 = transform_dict_to_string(json.loads(response2.message.content))\n",
    "\n",
    "emb1 = embedder(str1)\n",
    "emb2 = embedder(str2)"
   ]
  },
  {
   "cell_type": "code",
   "execution_count": null,
   "id": "e447ae97-6997-4d5b-aa55-0e3e07c72e5e",
   "metadata": {},
   "outputs": [],
   "source": [
    "cosine_similarity(emb1.reshape(1, -1), emb2.reshape(1, -1))"
   ]
  },
  {
   "cell_type": "code",
   "execution_count": 22,
   "id": "9111cd48-990f-492c-9c21-16185622ca72",
   "metadata": {},
   "outputs": [
    {
     "data": {
      "text/plain": [
       "\"name1, 80-year-old widow of a colonel, lives in a large villa in Auxerre together with the elderly maid name2, who is constantly harassed by the despotic lady. When name2 dies in a fall from a ladder, the elderly name3 is forced to move to Paris to live with her nephew Jean-Pierre. name3, believed by all to be gentle and kind, soon reveals her evil and domineering character and begins to mistreat the grandchildren for no reason, as she did with name2. Jean-Pierre's wife, the nice beautician name5, tries in every way to please her aunt and make her feel comfortable, but the woman repays her with all kinds of spite. Jean-Pierre's sister, the naive name6, is also constantly mocked by her aunt, who thinks she's an idiot.\\nDuring the summer, the name7ards, even to momentarily escape the unbearable presence of the aunt, leave for three weeks by going to a holiday village in Greece and leave the woman in the care of a young caregiver, name8. The girl initially tries to please the old woman by approving of her provocative behavior, but after a very short time the young woman decides to respond to name3 using her own ways; name8's strategy works and the old woman even falls in love with her, lending her money to repair her automobile and giving her the diamond pin coveted by her grandchildren. The relationship between the two, however, is strained when name8 tells name3 that she wants to spend a night on the beach with her new flame, the tourist name9. The elderly woman objects, the two fight furiously, and name8 leaves the house. To get revenge on everyone, Aunt name3 sets fire to the name7ard apartment and, once rescued, makes everyone believe that she was abandoned for months by her family. The name7ards are overwhelmed by the scandal and name3's story ends up in the news; exhausted by the misdeeds of the wicked old woman, the name7ards have no choice but to hospitalize her in a nursing home, where name3 continues to torment nurses and other elderly women. name5, however, is filled with guilt and often goes to visit her aunt, who shows no gratitude. One morning, the woman mysteriously disappears from the hospice, taking all her belongings with her and not letting the staff or the grandchildren know anything. This seems to be the ultimate disdain for all those who have tried to help her: in fact, name3 is reunited with name8 and the two women are happily enjoying a vacation around the world.\""
      ]
     },
     "execution_count": 22,
     "metadata": {},
     "output_type": "execute_result"
    }
   ],
   "source": [
    "texts[23]"
   ]
  }
 ],
 "metadata": {
  "kernelspec": {
   "display_name": "Python 3 (ipykernel)",
   "language": "python",
   "name": "python3"
  },
  "language_info": {
   "codemirror_mode": {
    "name": "ipython",
    "version": 3
   },
   "file_extension": ".py",
   "mimetype": "text/x-python",
   "name": "python",
   "nbconvert_exporter": "python",
   "pygments_lexer": "ipython3",
   "version": "3.10.16"
  }
 },
 "nbformat": 4,
 "nbformat_minor": 5
}
