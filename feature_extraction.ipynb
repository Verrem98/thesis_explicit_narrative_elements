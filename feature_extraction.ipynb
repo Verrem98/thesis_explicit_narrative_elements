{
 "cells": [
  {
   "cell_type": "code",
   "execution_count": 1,
   "id": "bff23553-84c7-4044-9f32-a5491408afe2",
   "metadata": {},
   "outputs": [
    {
     "name": "stdout",
     "output_type": "stream",
     "text": [
      "WARNING:tensorflow:From C:\\Users\\emiel\\.conda\\envs\\DSP-project\\Lib\\site-packages\\tf_keras\\src\\losses.py:2976: The name tf.losses.sparse_softmax_cross_entropy is deprecated. Please use tf.compat.v1.losses.sparse_softmax_cross_entropy instead.\n",
      "\n"
     ]
    },
    {
     "name": "stderr",
     "output_type": "stream",
     "text": [
      "[nltk_data] Downloading package punkt to\n",
      "[nltk_data]     C:\\Users\\emiel\\AppData\\Roaming\\nltk_data...\n",
      "[nltk_data]   Package punkt is already up-to-date!\n",
      "[nltk_data] Downloading package stopwords to\n",
      "[nltk_data]     C:\\Users\\emiel\\AppData\\Roaming\\nltk_data...\n",
      "[nltk_data]   Package stopwords is already up-to-date!\n"
     ]
    },
    {
     "data": {
      "text/plain": [
       "True"
      ]
     },
     "execution_count": 1,
     "metadata": {},
     "output_type": "execute_result"
    }
   ],
   "source": [
    "import spacy\n",
    "import torch\n",
    "import dspy\n",
    "from transformers import AutoTokenizer, AutoModelForCausalLM\n",
    "from sentence_transformers import SentenceTransformer\n",
    "import pandas as pd\n",
    "from sklearn.metrics.pairwise import cosine_similarity\n",
    "from sklearn.metrics import ndcg_score\n",
    "import numpy as np\n",
    "import random\n",
    "import faiss\n",
    "from sklearn.preprocessing import normalize\n",
    "random.seed(42)\n",
    "import spacy\n",
    "import re\n",
    "from nltk.tokenize import word_tokenize\n",
    "from nltk.corpus import stopwords\n",
    "import nltk\n",
    "from nltk.stem import PorterStemmer\n",
    "nltk.download('punkt')\n",
    "nltk.download('stopwords')"
   ]
  },
  {
   "cell_type": "code",
   "execution_count": 2,
   "id": "c9738a63-f38c-4e95-9ea0-92d1b3b0285b",
   "metadata": {},
   "outputs": [],
   "source": [
    "def preprocess_text(text):\n",
    "    text = text.lower()\n",
    "    \n",
    "    text = re.sub(r'[^\\w\\s]', '', text)\n",
    "    \n",
    "    tokens = word_tokenize(text)\n",
    "    \n",
    "    stop_words = set(stopwords.words('english'))\n",
    "    \n",
    "    tokens = [token for token in tokens if token not in stop_words]\n",
    "    \n",
    "    ps = PorterStemmer()\n",
    "    \n",
    "    tokens = [ps.stem(token) for token in tokens]\n",
    "    \n",
    "    return tokens"
   ]
  },
  {
   "cell_type": "code",
   "execution_count": 3,
   "id": "cf53f59a-9215-422d-819b-b10077130cbb",
   "metadata": {},
   "outputs": [],
   "source": [
    "nlp = spacy.load('en_core_web_sm')\n",
    "\n",
    "def replace_names_with_placeholder(text):\n",
    "    doc = nlp(text)\n",
    "    processed_text = []\n",
    "\n",
    "    for token in doc:\n",
    "        if token.ent_type_ == \"PERSON\": \n",
    "            processed_text.append(\"name\")  \n",
    "        elif token.ent_type_ == \"NORP\":\n",
    "            processed_text.append(\"group\") \n",
    "        elif token.ent_type_ == \"ORG\":\n",
    "            processed_text.append(\"organisation\") \n",
    "        else:\n",
    "            processed_text.append(token.text)\n",
    "\n",
    "    return ' '.join(processed_text)\n"
   ]
  },
  {
   "cell_type": "code",
   "execution_count": 4,
   "id": "3dddc1fe-caa1-4528-b2e4-45776e618783",
   "metadata": {},
   "outputs": [],
   "source": [
    "tell_me_again_df = pd.read_csv(\"data/tell_me_again.csv\")\n",
    "tell_me_again_df['label'] = tell_me_again_df.groupby('title').ngroup()\n",
    "tell_me_again_df['property_count'] = tell_me_again_df['label'].map(tell_me_again_df['label'].value_counts())"
   ]
  },
  {
   "cell_type": "code",
   "execution_count": 5,
   "id": "5bf49966-7711-48fc-9bf8-10df3c71b0b0",
   "metadata": {},
   "outputs": [],
   "source": [
    "# only select summaries if there are 2 or more summaries of the same movie\n",
    "tell_me_again_df = tell_me_again_df[tell_me_again_df.property_count >= 2]"
   ]
  },
  {
   "cell_type": "code",
   "execution_count": 6,
   "id": "3e943735-399a-47d7-9b7d-8acda00d955a",
   "metadata": {},
   "outputs": [],
   "source": [
    "summary_indices = random.sample(list(set(tell_me_again_df.label)),1000)"
   ]
  },
  {
   "cell_type": "code",
   "execution_count": 7,
   "id": "1559ff6e-a085-44f6-bc50-2a269418670b",
   "metadata": {},
   "outputs": [
    {
     "data": {
      "text/html": [
       "<div>\n",
       "<style scoped>\n",
       "    .dataframe tbody tr th:only-of-type {\n",
       "        vertical-align: middle;\n",
       "    }\n",
       "\n",
       "    .dataframe tbody tr th {\n",
       "        vertical-align: top;\n",
       "    }\n",
       "\n",
       "    .dataframe thead th {\n",
       "        text-align: right;\n",
       "    }\n",
       "</style>\n",
       "<table border=\"1\" class=\"dataframe\">\n",
       "  <thead>\n",
       "    <tr style=\"text-align: right;\">\n",
       "      <th></th>\n",
       "      <th>Unnamed: 0</th>\n",
       "      <th>wikidata_id</th>\n",
       "      <th>title</th>\n",
       "      <th>language</th>\n",
       "      <th>unpacked_summary</th>\n",
       "      <th>unpacked_summary_sents</th>\n",
       "      <th>label</th>\n",
       "      <th>property_count</th>\n",
       "    </tr>\n",
       "  </thead>\n",
       "  <tbody>\n",
       "    <tr>\n",
       "      <th>48</th>\n",
       "      <td>48</td>\n",
       "      <td>Q100265988</td>\n",
       "      <td>Black Box</td>\n",
       "      <td>de</td>\n",
       "      <td>In a car accident, young mother Rachel is kill...</td>\n",
       "      <td>['In a car accident, young mother Rachel is ki...</td>\n",
       "      <td>2800</td>\n",
       "      <td>5</td>\n",
       "    </tr>\n",
       "    <tr>\n",
       "      <th>49</th>\n",
       "      <td>49</td>\n",
       "      <td>Q100265988</td>\n",
       "      <td>Black Box</td>\n",
       "      <td>it</td>\n",
       "      <td>Nolan is a man who suffers from severe amnesia...</td>\n",
       "      <td>['Nolan is a man who suffers from severe amnes...</td>\n",
       "      <td>2800</td>\n",
       "      <td>5</td>\n",
       "    </tr>\n",
       "    <tr>\n",
       "      <th>61</th>\n",
       "      <td>61</td>\n",
       "      <td>Q100349419</td>\n",
       "      <td>Home</td>\n",
       "      <td>de</td>\n",
       "      <td>Marvin Hacks is riding his skateboard on the h...</td>\n",
       "      <td>['Marvin Hacks is riding his skateboard on the...</td>\n",
       "      <td>9026</td>\n",
       "      <td>9</td>\n",
       "    </tr>\n",
       "    <tr>\n",
       "      <th>62</th>\n",
       "      <td>62</td>\n",
       "      <td>Q100349419</td>\n",
       "      <td>Home</td>\n",
       "      <td>fr</td>\n",
       "      <td>Marvin Hacks (Jake McLaughlin) returns to his ...</td>\n",
       "      <td>['Marvin Hacks (Jake McLaughlin) returns to hi...</td>\n",
       "      <td>9026</td>\n",
       "      <td>9</td>\n",
       "    </tr>\n",
       "    <tr>\n",
       "      <th>77</th>\n",
       "      <td>77</td>\n",
       "      <td>Q1004440</td>\n",
       "      <td>Kill the Irishman</td>\n",
       "      <td>de</td>\n",
       "      <td>Danny Greene grows up as an Irish orphan in Cl...</td>\n",
       "      <td>['Danny Greene grows up as an Irish orphan in ...</td>\n",
       "      <td>10665</td>\n",
       "      <td>4</td>\n",
       "    </tr>\n",
       "    <tr>\n",
       "      <th>...</th>\n",
       "      <td>...</td>\n",
       "      <td>...</td>\n",
       "      <td>...</td>\n",
       "      <td>...</td>\n",
       "      <td>...</td>\n",
       "      <td>...</td>\n",
       "      <td>...</td>\n",
       "      <td>...</td>\n",
       "    </tr>\n",
       "    <tr>\n",
       "      <th>83126</th>\n",
       "      <td>83126</td>\n",
       "      <td>Q992813</td>\n",
       "      <td>Ride, Vaquero!</td>\n",
       "      <td>de</td>\n",
       "      <td>After the Civil War, American farmers settled ...</td>\n",
       "      <td>['After the Civil War, American farmers settle...</td>\n",
       "      <td>16105</td>\n",
       "      <td>3</td>\n",
       "    </tr>\n",
       "    <tr>\n",
       "      <th>83127</th>\n",
       "      <td>83127</td>\n",
       "      <td>Q992813</td>\n",
       "      <td>Ride, Vaquero!</td>\n",
       "      <td>fr</td>\n",
       "      <td>In Texas, just after the Civil War, a bandit n...</td>\n",
       "      <td>['In Texas, just after the Civil War, a bandit...</td>\n",
       "      <td>16105</td>\n",
       "      <td>3</td>\n",
       "    </tr>\n",
       "    <tr>\n",
       "      <th>83128</th>\n",
       "      <td>83128</td>\n",
       "      <td>Q992813</td>\n",
       "      <td>Ride, Vaquero!</td>\n",
       "      <td>it</td>\n",
       "      <td>Mexican bandit José Esqueda and his gang conti...</td>\n",
       "      <td>['Mexican bandit José Esqueda and his gang con...</td>\n",
       "      <td>16105</td>\n",
       "      <td>3</td>\n",
       "    </tr>\n",
       "    <tr>\n",
       "      <th>83228</th>\n",
       "      <td>83229</td>\n",
       "      <td>Q998048</td>\n",
       "      <td>Trimurti</td>\n",
       "      <td>de</td>\n",
       "      <td>Satyadevi is an honest policewoman and mother ...</td>\n",
       "      <td>['Satyadevi is an honest policewoman and mothe...</td>\n",
       "      <td>25450</td>\n",
       "      <td>2</td>\n",
       "    </tr>\n",
       "    <tr>\n",
       "      <th>83229</th>\n",
       "      <td>83230</td>\n",
       "      <td>Q998048</td>\n",
       "      <td>Trimurti</td>\n",
       "      <td>fr</td>\n",
       "      <td>Satyadevi Singh is a police inspector; she has...</td>\n",
       "      <td>['Satyadevi Singh is a police inspector; she h...</td>\n",
       "      <td>25450</td>\n",
       "      <td>2</td>\n",
       "    </tr>\n",
       "  </tbody>\n",
       "</table>\n",
       "<p>3325 rows × 8 columns</p>\n",
       "</div>"
      ],
      "text/plain": [
       "       Unnamed: 0 wikidata_id              title language  \\\n",
       "48             48  Q100265988          Black Box       de   \n",
       "49             49  Q100265988          Black Box       it   \n",
       "61             61  Q100349419               Home       de   \n",
       "62             62  Q100349419               Home       fr   \n",
       "77             77    Q1004440  Kill the Irishman       de   \n",
       "...           ...         ...                ...      ...   \n",
       "83126       83126     Q992813     Ride, Vaquero!       de   \n",
       "83127       83127     Q992813     Ride, Vaquero!       fr   \n",
       "83128       83128     Q992813     Ride, Vaquero!       it   \n",
       "83228       83229     Q998048           Trimurti       de   \n",
       "83229       83230     Q998048           Trimurti       fr   \n",
       "\n",
       "                                        unpacked_summary  \\\n",
       "48     In a car accident, young mother Rachel is kill...   \n",
       "49     Nolan is a man who suffers from severe amnesia...   \n",
       "61     Marvin Hacks is riding his skateboard on the h...   \n",
       "62     Marvin Hacks (Jake McLaughlin) returns to his ...   \n",
       "77     Danny Greene grows up as an Irish orphan in Cl...   \n",
       "...                                                  ...   \n",
       "83126  After the Civil War, American farmers settled ...   \n",
       "83127  In Texas, just after the Civil War, a bandit n...   \n",
       "83128  Mexican bandit José Esqueda and his gang conti...   \n",
       "83228  Satyadevi is an honest policewoman and mother ...   \n",
       "83229  Satyadevi Singh is a police inspector; she has...   \n",
       "\n",
       "                                  unpacked_summary_sents  label  \\\n",
       "48     ['In a car accident, young mother Rachel is ki...   2800   \n",
       "49     ['Nolan is a man who suffers from severe amnes...   2800   \n",
       "61     ['Marvin Hacks is riding his skateboard on the...   9026   \n",
       "62     ['Marvin Hacks (Jake McLaughlin) returns to hi...   9026   \n",
       "77     ['Danny Greene grows up as an Irish orphan in ...  10665   \n",
       "...                                                  ...    ...   \n",
       "83126  ['After the Civil War, American farmers settle...  16105   \n",
       "83127  ['In Texas, just after the Civil War, a bandit...  16105   \n",
       "83128  ['Mexican bandit José Esqueda and his gang con...  16105   \n",
       "83228  ['Satyadevi is an honest policewoman and mothe...  25450   \n",
       "83229  ['Satyadevi Singh is a police inspector; she h...  25450   \n",
       "\n",
       "       property_count  \n",
       "48                  5  \n",
       "49                  5  \n",
       "61                  9  \n",
       "62                  9  \n",
       "77                  4  \n",
       "...               ...  \n",
       "83126               3  \n",
       "83127               3  \n",
       "83128               3  \n",
       "83228               2  \n",
       "83229               2  \n",
       "\n",
       "[3325 rows x 8 columns]"
      ]
     },
     "execution_count": 7,
     "metadata": {},
     "output_type": "execute_result"
    }
   ],
   "source": [
    "tell_me_again_df = tell_me_again_df[tell_me_again_df.label.isin(summary_indices)]\n",
    "#tell_me_again_df['processed_summary'] = tell_me_again_df['unpacked_summary'].apply(replace_names_with_placeholder)\n",
    "tell_me_again_df"
   ]
  },
  {
   "cell_type": "code",
   "execution_count": 8,
   "id": "82ef89e8-4ddc-4376-9916-68d848ed2193",
   "metadata": {},
   "outputs": [
    {
     "data": {
      "text/plain": [
       "'Nolan is a man who suffers from severe amnesia due to a terrible car accident in which his wife lost her life. Despite severe memory problems, he continues to live with his baby daughter Ava, aided only by his best friend Gary, an orthopedic doctor. The man finds himself completely managed by his child and loses his job as a photojournalist because his shots are no longer up to his old works. Nolan also develops some characteristics that he never had in the past: he forgets to pick up his daughter from school and has small bouts of violence in which he loses control. He also begins to resent some of the rituals of his family routine that are dear to his daughter. In an attempt to regain his memory, Nolan, after several unsuccessful attempts with traditional medicine, begins experimental therapy with Dr. Brooks, who has developed a special hypnosis strategy that allows him to relive his most important memories.\\nNolan\\'s visions, however, are different from what he expected: the man sees places that seem familiar to him but that are different from those in which he has always lived, he cannot visualize the faces of the people with whom he interacts and above all he is attacked each time by an anthropomorphic creature that walks in a strange way, as if it were an animal. Each time the man awakens abruptly, however the doctor insists on continuing with the sessions: the woman claims that only by fighting that monster created by his mind will he be able to overcome his deficit, and that he will soon begin to visualize the faces of the people he loves. The further Nolan goes, however, the more he seems to see memories not of his own and begins to manifest attitudes different from those he had in the past. After focusing on the face of the woman he is marrying in his visions, Nolan is able to locate the apartment that appears in his memories. Recatovisi discovers that the woman in the vision is still alive and has a child of Ava\\'s age.\\nConcerned by his friend\\'s strange behavior, Gary discovers that Dr. Brooks was present when Nolan was taken to the hospital after the accident and that she had actually resuscitated him in her laboratory. At that very moment, during a longer session than usual, Nolan realizes that he is actually Thomas, the son of the doctor whose brain waves she had traced and saved before she died, and then implanted them into Nolan\\'s body when he was declared brain dead. Convinced with dismay that he has subjected that family to some violence, the man wants to make amends: so he entrusts Ava to Gary despite the protests of both of them and shows up at Miranda\\'s house. Here, wearing Nolan\\'s likeness, she introduces herself as a college classmate of Thomas\\'s, and after revealing the truth, the woman reacts with fear and dismay, thus prompting her husband to notice that all the photos of him have been removed from the apartment. Thomas then becomes violent and, when he pretends to go to his daughter\\'s room, Miranda stuns him. The man wakes up in front of Gary\\'s house, at the feet of his friend and Ava, but immediately runs away to go back to Dr. Brooks\\' office.\\nThe doctor subjects him to one last session with the aim of erasing from him the attacks of violence: in her vision she discovers with dismay that the anthropomorphic creature is actually what remains of Nolan. Brooks claims that this is only a projection of her mind and urges him to physically confront her: Nolan\\'s submissive nature prevents him from reacting, and so Thomas almost kills him. Just then, however, Ava and Gary burst into the lab: Nolan\\'s reaction to his daughter\\'s voice is confirmation to Thomas that the man is still alive and that his mother lied to him. Thomas is fought but, after remembering that he was killed by Miranda as he was about to attack their baby, decides to leave control of the body to its rightful owner: as soon as he wakes up, Nolan finally manages to perform his \"special greeting\" to Ava, and leaves with her and Gary. The latter destroys Brooks\\' equipment so that the doctor stops her experiments, after which the woman is discharged from the hospital.\\nNolan, Ava, Miranda and Gary all return to normal life, however Dr. Brooks continues from home to conduct her experiments on Thomas\\'s brain waves.'"
      ]
     },
     "execution_count": 8,
     "metadata": {},
     "output_type": "execute_result"
    }
   ],
   "source": [
    "tell_me_again_df.unpacked_summary.iloc[1]"
   ]
  },
  {
   "cell_type": "code",
   "execution_count": 9,
   "id": "05ef60c7-3ee7-4a4a-8e2d-d30b0558b1cd",
   "metadata": {},
   "outputs": [],
   "source": [
    "labels = tell_me_again_df.label.tolist()\n",
    "texts = tell_me_again_df.unpacked_summary.tolist()"
   ]
  },
  {
   "cell_type": "code",
   "execution_count": 10,
   "id": "e6468d44-4e2e-4f28-9a14-24664499210e",
   "metadata": {},
   "outputs": [],
   "source": [
    "device = torch.device(\"cuda\" if torch.cuda.is_available() else \"cpu\")"
   ]
  },
  {
   "cell_type": "code",
   "execution_count": 11,
   "id": "05ff60af-c78a-42e9-a031-9e7094fd9941",
   "metadata": {},
   "outputs": [],
   "source": [
    "model = SentenceTransformer(\"sentence-transformers/all-MiniLM-L6-v2\", device=device)\n",
    "embedder = dspy.Embedder(model.encode)"
   ]
  },
  {
   "cell_type": "code",
   "execution_count": 12,
   "id": "4ffe6768-c44c-4db6-954e-14699c49ff8f",
   "metadata": {},
   "outputs": [],
   "source": [
    "embeddings = embedder(texts)"
   ]
  },
  {
   "cell_type": "code",
   "execution_count": 11,
   "id": "ff5cddba-5bd7-43b7-833d-643c4a460312",
   "metadata": {},
   "outputs": [],
   "source": [
    "from sklearn.feature_extraction.text import TfidfVectorizer\n",
    "from rank_bm25 import BM25Okapi\n",
    "\n",
    "def build_index(embeddings, normalize_vectors=True):\n",
    "    if normalize_vectors:\n",
    "        return normalize(embeddings, axis=1)\n",
    "    return embeddings\n",
    "\n",
    "def get_dense_similarity(query_vector, candidate_vectors):\n",
    "    return np.dot(candidate_vectors, query_vector.T).flatten()\n",
    "\n",
    "def get_bm25_scores(corpus, query, bm25=None):\n",
    "    if bm25 is None:\n",
    "        bm25 = BM25Okapi([doc for doc in corpus])\n",
    "    return bm25.get_scores(query)\n",
    "\n",
    "def get_relevance_scores(i, labels, data, index, k=None, method='dense', bm25=None):\n",
    "    if k is None:\n",
    "        k = len(labels)\n",
    "\n",
    "    query_label = labels[i]\n",
    "    matching_labels = np.where(np.array(labels) == query_label)[0]\n",
    "\n",
    "    if method == 'dense':\n",
    "        query_vector = index[i].reshape(1, -1)\n",
    "        similarities = get_dense_similarity(query_vector, index)\n",
    "    elif method == 'bm25':\n",
    "        query_text = data[i]\n",
    "        similarities = get_bm25_scores(data, query_text, bm25)\n",
    "    else:\n",
    "        raise ValueError(\"Unsupported method. Use 'dense' or 'bm25'.\")\n",
    "\n",
    "    top_k_indices = np.argsort(similarities)[::-1]\n",
    "    top_k_indices = top_k_indices[top_k_indices != i][:k]\n",
    "\n",
    "    relevance_scores = [1 if x in matching_labels else 0 for x in top_k_indices]\n",
    "    ideal_relevance_scores = sorted(relevance_scores, reverse=True)\n",
    "\n",
    "    return ideal_relevance_scores, relevance_scores\n",
    "\n",
    "def calculate_mean_ndcg_score(labels, data, embeddings=None, method='dense'):\n",
    "    if method == 'dense':\n",
    "        embeddings = np.array(embeddings).astype('float32')\n",
    "        index = build_index(embeddings)\n",
    "        get_index = lambda: index\n",
    "        bm25 = None\n",
    "    elif method == 'bm25':\n",
    "        index = data\n",
    "        get_index = lambda: index\n",
    "        bm25 = BM25Okapi([doc for doc in data])\n",
    "    else:\n",
    "        raise ValueError(\"Method must be 'dense' or 'bm25'.\")\n",
    "\n",
    "    ideal_relevance_scores = []\n",
    "    relevance_scores = []\n",
    "\n",
    "    for i in [labels.index(x) for x in list(set(labels))]:\n",
    "        irs, rs = get_relevance_scores(i, labels, data, get_index(), method=method, bm25=bm25)\n",
    "        ideal_relevance_scores.append(irs)\n",
    "        relevance_scores.append(rs)\n",
    "\n",
    "    return ndcg_score(np.array(ideal_relevance_scores), np.array(relevance_scores))\n"
   ]
  },
  {
   "cell_type": "code",
   "execution_count": 14,
   "id": "cb3df4de-487e-40f8-85a0-4c5ace64545f",
   "metadata": {},
   "outputs": [
    {
     "data": {
      "text/plain": [
       "0.8595025489669603"
      ]
     },
     "execution_count": 14,
     "metadata": {},
     "output_type": "execute_result"
    }
   ],
   "source": [
    "ndcg_dense = calculate_mean_ndcg_score(labels, data=texts, embeddings=embeddings, method='dense')\n",
    "ndcg_dense"
   ]
  },
  {
   "cell_type": "code",
   "execution_count": 15,
   "id": "99466f99-c8e0-4a63-b55d-b3b7d3e69117",
   "metadata": {},
   "outputs": [
    {
     "name": "stdout",
     "output_type": "stream",
     "text": [
      "CPU times: total: 2min 10s\n",
      "Wall time: 2min 10s\n"
     ]
    },
    {
     "data": {
      "text/plain": [
       "0.8567717232009066"
      ]
     },
     "execution_count": 15,
     "metadata": {},
     "output_type": "execute_result"
    }
   ],
   "source": [
    "%%time\n",
    "ndcg_bm25 = calculate_mean_ndcg_score(labels, data=[preprocess_text(text) for text in texts], method='bm25')\n",
    "ndcg_bm25"
   ]
  },
  {
   "cell_type": "markdown",
   "id": "ece5afc6-00e5-4858-992c-cbb6ca87320e",
   "metadata": {},
   "source": [
    "# 2. Zero-shot Ollama + DSPy"
   ]
  },
  {
   "cell_type": "code",
   "execution_count": 23,
   "id": "0aec7039-315f-4a4c-8754-c55121eb25ef",
   "metadata": {},
   "outputs": [],
   "source": [
    "text = tell_me_again_df.unpacked_summary.iloc[23]"
   ]
  },
  {
   "cell_type": "code",
   "execution_count": 20,
   "id": "b1510f8e-e2a2-4518-884f-b937dc327f43",
   "metadata": {},
   "outputs": [],
   "source": [
    "lm = dspy.LM('ollama_chat/gemma3:4b', api_base='http://localhost:11434', api_key='')\n",
    "dspy.configure(lm=lm)"
   ]
  },
  {
   "cell_type": "code",
   "execution_count": 21,
   "id": "fd09e8c3-a8de-4372-8487-c07d007e292c",
   "metadata": {},
   "outputs": [],
   "source": [
    "from ollama import chat\n",
    "from pydantic import BaseModel, Field\n",
    "from typing import Literal, Optional, List\n",
    "\n",
    "class Character(BaseModel):\n",
    "    name: str\n",
    "    role: Optional[str]\n",
    "    age: Optional[int]\n",
    "    backstory: Optional[str]\n",
    "    beliefs: Optional[list[str]]\n",
    "    weaknesses: Optional[list[str]]\n",
    "    strengths: Optional[list[str]]\n",
    "    motivations: Optional[list[str]]\n",
    "    character_arc: Optional[str] = Field(None, description=\"Describes how the character changes over the story\")\n",
    "    relationship: Optional[str]\n",
    "    #actantial_role: Literal['Subject', 'Object', 'Helper', 'Opponent', 'Sender', 'Receiver'] = None\n",
    "\n",
    "class Setting(BaseModel):\n",
    "    time_periods: list[str]\n",
    "    locations: list[str] \n",
    "    cultural_context: list[str]\n",
    "\n",
    "class Plot(BaseModel):\n",
    "\n",
    "    #timeline_of_events: list[str] = Field(description = (\n",
    "    #    \"a sequenced list of very brief event descriptions\"\n",
    "    #))SS\n",
    "    \n",
    "    conflict: Optional[Literal['person vs. person', 'person vs. self', 'person vs. nature', 'person vs.society']]\n",
    "\n",
    "    story_exposition: Optional[str]\n",
    "    story_rising_action: Optional[str]\n",
    "    story_climax: Optional[str]\n",
    "    story_falling_action: Optional[str]\n",
    "    story_resolution: Optional[str]\n",
    "    \n",
    "class Theme(BaseModel):\n",
    "    main_themes: Optional[list[str]]\n",
    "    secondary_themes: Optional[list[str]]\n",
    "    morals: Optional[list[str]]\n",
    "    \n",
    "class Other(BaseModel):\n",
    "    main_genres: Optional[list[str]]\n",
    "    sub_genres: Optional[list[str]]\n",
    "    content_warnings: Optional[list[str]]\n",
    "    #writing_style: Optional[str]\n",
    "    #point_of_view: Optional[Literal['First-person narrator', 'Third-person limited narrator', 'Third-person omniscient narrator']]\n",
    "    \n",
    "class Elements(BaseModel):\n",
    "    characters: list[Character]\n",
    "    setting: Setting\n",
    "    plot: Plot\n",
    "    theme: Theme\n",
    "    other: Other\n",
    "    \n"
   ]
  },
  {
   "cell_type": "code",
   "execution_count": 24,
   "id": "9b1812d5-9d64-47d3-becf-62f1755ea979",
   "metadata": {},
   "outputs": [
    {
     "name": "stdout",
     "output_type": "stream",
     "text": [
      "characters=[Character(name='Angelina Billard', role='Antagonist', age=80, backstory='Widow of a Colonel, formerly a domineering and cruel woman who mistreated those around her.', beliefs=['Believes she is entitled to control and manipulate others.', 'Holds grudges and seeks revenge.'], weaknesses=['Her age and declining mental state.', 'Her obsession with control.'], strengths=['Manipulation', 'Ruthlessness'], motivations=['To exert control over others.', 'To inflict pain and suffering.'], character_arc=None, relationship='Antagonistic towards all other characters, particularly Jean-Pierre, Catherine, Jeanne, and Sandrine.'), Character(name='Odile', role='Victim', age=70, backstory='Elderly maid, constantly harassed by Angelina.', beliefs=['None explicitly stated, but likely a desire for peace and respect.'], weaknesses=['Physical vulnerability due to age.', 'Dependence on Angelina.'], strengths=['Kindness', 'Loyalty'], motivations=['To avoid conflict with Angelina.'], character_arc=None, relationship=\"Victim of Angelina's abuse.\"), Character(name='Jean-Pierre', role=\"Protagonist's Nephew\", age=40, backstory=\"Angelina's nephew, concerned for her well-being.\", beliefs=['Believes in family responsibility.', 'Values kindness and compassion.'], weaknesses=['Naive trust in his aunt.', 'Lack of assertiveness.'], strengths=['Good intentions', 'Concern for family'], motivations=['To care for his aunt.', 'To protect his family.'], character_arc=None, relationship='Relatively neutral towards Angelina, initially supportive.'), Character(name='Catherine', role='Supporting Character', age=40, backstory=\"Jean-Pierre's wife, a beautician.\", beliefs=['Believes in kindness and compassion.', 'Values family harmony.'], weaknesses=['Overly accommodating to Angelina.', 'Lack of assertiveness.'], strengths=['Kindness', 'Empathy'], motivations=['To please her aunt.', 'To maintain family harmony.'], character_arc=None, relationship='Attempts to be kind to Angelina, but is ultimately repaid with spite.'), Character(name='Jeanne', role='Supporting Character', age=25, backstory=\"Jean-Pierre's sister, naive and easily manipulated.\", beliefs=['Believes in the goodness of others.', 'Trusting nature.'], weaknesses=['Naivete', 'Lack of critical thinking.'], strengths=['Innocence', 'Gentle nature'], motivations=['To be liked by her aunt.'], character_arc=None, relationship=\"Constant target of Angelina's mockery.\"), Character(name='Sandrine', role='Supporting Character', age=22, backstory='Young caregiver, initially tries to please Angelina, then retaliates.', beliefs=['Initially, a desire to be helpful and agreeable.', 'Later, a desire for independence and self-respect.'], weaknesses=['Initially, a willingness to be manipulated.', 'Lack of assertiveness.'], strengths=['Resourcefulness', 'Determination'], motivations=['Initially, to please Angelina.', 'Later, to assert herself.'], character_arc=None, relationship='Complex relationship with Angelina, evolving from caregiver to adversary and eventually, romantic partner.')] setting=Setting(time_periods=['Present Day'], locations=['Auxerre (France)', 'Greece (Holiday Village)', 'Paris (France)', 'Nursing Home (France)'], cultural_context=['French society', 'Family dynamics']) plot=Plot(conflict='person vs. person', story_exposition=\"Angelina's manipulative behavior and eventual destructive actions drive the plot.\", story_rising_action=\"Angelina's escalating abuse, her arson, and the ensuing scandal.\", story_climax=\"Angelina's disappearance and reunion with Sandrine.\", story_falling_action=\"The aftermath of the scandal and Angelina's institutionalization.\", story_resolution=\"Angelina's final escape with Sandrine, suggesting a cyclical pattern of abuse and escape.\") theme=Theme(main_themes=['Abuse', 'Family Dysfunction', 'Revenge', 'Redemption (or lack thereof)', 'The corrosive effects of bitterness'], secondary_themes=['Social Class', 'Generational Conflict'], morals=['The importance of standing up to abuse.', 'The consequences of unchecked bitterness.']) other=Other(main_genres=['Drama', 'Thriller'], sub_genres=['Family Drama', 'Crime'], content_warnings=['Abuse', 'Violence', 'Manipulation'])\n",
      "CPU times: total: 31.2 ms\n",
      "Wall time: 14.4 s\n"
     ]
    }
   ],
   "source": [
    "%%time\n",
    "response = chat(\n",
    "    messages=[\n",
    "    {\"role\": \"system\", \"content\": f\"Return as a JSON object\"},\n",
    "    {\"role\": \"user\", \"content\": text}\n",
    "    ],\n",
    "    model='gemma3:4b',\n",
    "    format=Elements.model_json_schema(),\n",
    "    options = {'temperature':0}\n",
    ")\n",
    "\n",
    "elements = Elements.model_validate_json(response.message.content)\n",
    "print(elements)"
   ]
  },
  {
   "cell_type": "code",
   "execution_count": 25,
   "id": "c220a3c4-7746-433c-832f-d7e4bce65a44",
   "metadata": {},
   "outputs": [
    {
     "data": {
      "text/plain": [
       "\"Angelina Billard, 80-year-old widow of a colonel, lives in a large villa in Auxerre together with the elderly maid Odile, who is constantly harassed by the despotic lady. When Odile dies in a fall from a ladder, the elderly Angelina is forced to move to Paris to live with her nephew Jean-Pierre. Angelina, believed by all to be gentle and kind, soon reveals her evil and domineering character and begins to mistreat the grandchildren for no reason, as she did with Odile. Jean-Pierre's wife, the nice beautician Catherine, tries in every way to please her aunt and make her feel comfortable, but the woman repays her with all kinds of spite. Jean-Pierre's sister, the naive Jeanne, is also constantly mocked by her aunt, who thinks she's an idiot.\\nDuring the summer, the Billards, even to momentarily escape the unbearable presence of the aunt, leave for three weeks by going to a holiday village in Greece and leave the woman in the care of a young caregiver, Sandrine. The girl initially tries to please the old woman by approving of her provocative behavior, but after a very short time the young woman decides to respond to Angelina using her own ways; Sandrine's strategy works and the old woman even falls in love with her, lending her money to repair her automobile and giving her the diamond pin coveted by her grandchildren. The relationship between the two, however, is strained when Sandrine tells Angelina that she wants to spend a night on the beach with her new flame, the tourist Michael. The elderly woman objects, the two fight furiously, and Sandrine leaves the house. To get revenge on everyone, Aunt Angelina sets fire to the Billard apartment and, once rescued, makes everyone believe that she was abandoned for months by her family. The Billards are overwhelmed by the scandal and Angelina's story ends up in the news; exhausted by the misdeeds of the wicked old woman, the Billards have no choice but to hospitalize her in a nursing home, where Angelina continues to torment nurses and other elderly women. Catherine, however, is filled with guilt and often goes to visit her aunt, who shows no gratitude. One morning, the woman mysteriously disappears from the hospice, taking all her belongings with her and not letting the staff or the grandchildren know anything. This seems to be the ultimate disdain for all those who have tried to help her: in fact, Angelina is reunited with Sandrine and the two women are happily enjoying a vacation around the world.\""
      ]
     },
     "execution_count": 25,
     "metadata": {},
     "output_type": "execute_result"
    }
   ],
   "source": [
    "text"
   ]
  }
 ],
 "metadata": {
  "kernelspec": {
   "display_name": "Python 3 (ipykernel)",
   "language": "python",
   "name": "python3"
  },
  "language_info": {
   "codemirror_mode": {
    "name": "ipython",
    "version": 3
   },
   "file_extension": ".py",
   "mimetype": "text/x-python",
   "name": "python",
   "nbconvert_exporter": "python",
   "pygments_lexer": "ipython3",
   "version": "3.11.10"
  }
 },
 "nbformat": 4,
 "nbformat_minor": 5
}
